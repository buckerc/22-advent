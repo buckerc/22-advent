{
 "cells": [
  {
   "cell_type": "code",
   "execution_count": 17,
   "id": "40c60959-c88d-4a36-819c-0c85728d9e5a",
   "metadata": {},
   "outputs": [
    {
     "name": "stdout",
     "output_type": "stream",
     "text": [
      "70369\n",
      "203002\n"
     ]
    }
   ],
   "source": [
    "import numpy as np\n",
    "one_elf = 0\n",
    "many_elves = []\n",
    "with open('./input.txt' , 'r') as file:\n",
    "    for line in file:\n",
    "        if line.strip() == '':\n",
    "            many_elves.append(one_elf)\n",
    "            one_elf = 0\n",
    "            continue\n",
    "        one_elf += int(line.strip())\n",
    "    many_elves.append(one_elf)\n",
    "many_elves.sort()\n",
    "print(many_elves[-1])\n",
    "print(sum(many_elves[-3:]))"
   ]
  },
  {
   "cell_type": "code",
   "execution_count": null,
   "id": "8cf34bc6-4199-4b69-aa02-2e5f76ed9420",
   "metadata": {},
   "outputs": [],
   "source": []
  }
 ],
 "metadata": {
  "kernelspec": {
   "display_name": "Python 3 (ipykernel)",
   "language": "python",
   "name": "python3"
  },
  "language_info": {
   "codemirror_mode": {
    "name": "ipython",
    "version": 3
   },
   "file_extension": ".py",
   "mimetype": "text/x-python",
   "name": "python",
   "nbconvert_exporter": "python",
   "pygments_lexer": "ipython3",
   "version": "3.9.13"
  }
 },
 "nbformat": 4,
 "nbformat_minor": 5
}
