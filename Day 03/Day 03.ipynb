{
 "cells": [
  {
   "cell_type": "code",
   "execution_count": 49,
   "id": "8194f564-6116-4dc1-a55b-6287afa28afa",
   "metadata": {},
   "outputs": [],
   "source": [
    "def get_priority(array):\n",
    "    counter = 0\n",
    "    for a in array:\n",
    "        if ord(a) > 96:\n",
    "            counter += ord(a) - 96\n",
    "        else:\n",
    "            counter += ord(a) - 38\n",
    "    return counter"
   ]
  },
  {
   "cell_type": "code",
   "execution_count": 50,
   "id": "e6e905ce-90ff-431a-a28a-e6c5e80589be",
   "metadata": {},
   "outputs": [
    {
     "name": "stdout",
     "output_type": "stream",
     "text": [
      "8185\n",
      "2817\n"
     ]
    }
   ],
   "source": [
    "presents = []\n",
    "with open ('./input.txt', 'r') as file:\n",
    "    for present in file:\n",
    "        presents.append(present.strip())\n",
    "        \n",
    "priority = []\n",
    "for present in presents:\n",
    "    chars = len(present)\n",
    "    split = chars // 2\n",
    "    for s in present[split:]:\n",
    "        if s in present[:split]:\n",
    "            priority.append(s)\n",
    "            break\n",
    "\n",
    "print(get_priority(priority))   \n",
    "\n",
    "priority = []\n",
    "for a,b,c in zip(presents[0::3],presents[1::3],presents[2::3]):\n",
    "    for char in a:\n",
    "        if char in b and char in c:\n",
    "            priority.append(char)\n",
    "            break\n",
    "            \n",
    "print(get_priority(priority))             "
   ]
  }
 ],
 "metadata": {
  "kernelspec": {
   "display_name": "Python 3 (ipykernel)",
   "language": "python",
   "name": "python3"
  },
  "language_info": {
   "codemirror_mode": {
    "name": "ipython",
    "version": 3
   },
   "file_extension": ".py",
   "mimetype": "text/x-python",
   "name": "python",
   "nbconvert_exporter": "python",
   "pygments_lexer": "ipython3",
   "version": "3.9.13"
  }
 },
 "nbformat": 4,
 "nbformat_minor": 5
}
