{
 "cells": [
  {
   "cell_type": "code",
   "execution_count": 8,
   "id": "6b2397e6-6038-4da7-a997-687f89018073",
   "metadata": {},
   "outputs": [
    {
     "data": {
      "text/plain": [
       "2500"
      ]
     },
     "execution_count": 8,
     "metadata": {},
     "output_type": "execute_result"
    }
   ],
   "source": [
    "o_rock=\"A\"\n",
    "o_paper=\"B\"\n",
    "o_scissor=\"C\"\n",
    "m_rock='X'\n",
    "m_paper='Y'\n",
    "m_scissor='Z'\n",
    "\n",
    "moves = []\n",
    "with open('./input.txt', 'r') as file:\n",
    "    for line in file:\n",
    "        moves.append(line.strip().split(' '))\n",
    "len(moves)"
   ]
  },
  {
   "cell_type": "code",
   "execution_count": 9,
   "id": "699f9e6c-bce2-46d8-b4d2-dec012dbebbf",
   "metadata": {},
   "outputs": [
    {
     "data": {
      "text/plain": [
       "17189"
      ]
     },
     "execution_count": 9,
     "metadata": {},
     "output_type": "execute_result"
    }
   ],
   "source": [
    "points = 0\n",
    "for o,m in moves:\n",
    "    if m == 'Z':\n",
    "        points += 3\n",
    "    elif m == 'Y':\n",
    "        points += 2\n",
    "    elif m== 'X':\n",
    "        points+=1\n",
    "    \n",
    "    if o=='A' and m=='X':\n",
    "        points+= 3\n",
    "    elif o=='A' and m=='Y':\n",
    "        points +=6\n",
    "    elif o=='B' and m=='Y':\n",
    "        points+= 3\n",
    "    elif o=='B' and m=='Z':\n",
    "        points +=6\n",
    "    elif o=='C' and m=='Z':\n",
    "        points+= 3\n",
    "    elif o=='C' and m=='X':\n",
    "        points+=6      \n",
    "points"
   ]
  },
  {
   "cell_type": "code",
   "execution_count": 10,
   "id": "15ce5e42-89fc-48dc-b883-a3aa84cc645c",
   "metadata": {},
   "outputs": [
    {
     "data": {
      "text/plain": [
       "13490"
      ]
     },
     "execution_count": 10,
     "metadata": {},
     "output_type": "execute_result"
    }
   ],
   "source": [
    "points = 0\n",
    "for o,m in moves:\n",
    "    # lose\n",
    "    if m == 'X':\n",
    "        points += 0\n",
    "        if o == 'A':\n",
    "            points += 3 #sci\n",
    "        elif o=='B':\n",
    "            points += 1\n",
    "        elif o=='C':\n",
    "            points += 2\n",
    "    # draw\n",
    "    elif m == 'Y':\n",
    "        points += 3\n",
    "        if o == 'A':\n",
    "            points += 1\n",
    "        elif o == 'B':\n",
    "            points += 2\n",
    "        elif o == 'C':\n",
    "            points += 3\n",
    "    elif m == 'Z':\n",
    "        points += 6\n",
    "        if o =='A':\n",
    "            points += 2\n",
    "        elif o == 'B':\n",
    "            points += 3\n",
    "        elif o == 'C':\n",
    "            points += 1\n",
    "points\n"
   ]
  },
  {
   "cell_type": "code",
   "execution_count": null,
   "id": "ba380940-e712-4827-b02a-f1c478d001d7",
   "metadata": {},
   "outputs": [],
   "source": []
  }
 ],
 "metadata": {
  "kernelspec": {
   "display_name": "Python 3 (ipykernel)",
   "language": "python",
   "name": "python3"
  },
  "language_info": {
   "codemirror_mode": {
    "name": "ipython",
    "version": 3
   },
   "file_extension": ".py",
   "mimetype": "text/x-python",
   "name": "python",
   "nbconvert_exporter": "python",
   "pygments_lexer": "ipython3",
   "version": "3.9.13"
  }
 },
 "nbformat": 4,
 "nbformat_minor": 5
}
