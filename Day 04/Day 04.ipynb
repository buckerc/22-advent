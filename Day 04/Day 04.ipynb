{
 "cells": [
  {
   "cell_type": "code",
   "execution_count": 17,
   "id": "38b95504-cbe8-44d6-aacb-7097bbaf6373",
   "metadata": {},
   "outputs": [
    {
     "data": {
      "text/plain": [
       "433"
      ]
     },
     "execution_count": 17,
     "metadata": {},
     "output_type": "execute_result"
    }
   ],
   "source": [
    "import numpy as np\n",
    "counter = 0\n",
    "with open('./inputs.txt', 'r') as file:\n",
    "    for line in file:\n",
    "        e1 = line.strip().split(',')[0]\n",
    "        e2 = line.strip().split(',')[1]\n",
    "        \n",
    "        e1_min, e1_max = e1.split('-')\n",
    "        e2_min, e2_max = e2.split('-')\n",
    "\n",
    "        e1_min = int(e1_min)\n",
    "        e1_max = int(e1_max)\n",
    "        e2_min = int(e2_min)\n",
    "        e2_max = int(e2_max)    \n",
    "        \n",
    "        e1 = list(np.arange(e1_min, e1_max+1))\n",
    "        e2 = list(np.arange(e2_min,e2_max+1))\n",
    "        \n",
    "        if e1_min >= e2_min and e1_max <= e2_max:\n",
    "            counter += 1\n",
    "        elif e2_min >= e1_min and e2_max <= e1_max:\n",
    "            counter += 1\n",
    "counter"
   ]
  },
  {
   "cell_type": "code",
   "execution_count": 19,
   "id": "e5eba0fa-4dbb-42dc-a578-4941fd06da48",
   "metadata": {},
   "outputs": [
    {
     "data": {
      "text/plain": [
       "852"
      ]
     },
     "execution_count": 19,
     "metadata": {},
     "output_type": "execute_result"
    }
   ],
   "source": [
    "counter = 0\n",
    "with open('./inputs.txt', 'r') as file:\n",
    "    for line in file:\n",
    "        e1 = line.strip().split(',')[0]\n",
    "        e2 = line.strip().split(',')[1]\n",
    "        \n",
    "        e1_min, e1_max = e1.split('-')\n",
    "        e2_min, e2_max = e2.split('-')\n",
    "\n",
    "        e1_min = int(e1_min)\n",
    "        e1_max = int(e1_max)\n",
    "        e2_min = int(e2_min)\n",
    "        e2_max = int(e2_max)    \n",
    "        \n",
    "        e1 = list(np.arange(e1_min, e1_max+1))\n",
    "        e2 = list(np.arange(e2_min,e2_max+1))\n",
    "        \n",
    "        if len(set(e1+e2)) < len(e1+e2):\n",
    "            counter += 1\n",
    "counter"
   ]
  }
 ],
 "metadata": {
  "kernelspec": {
   "display_name": "Python 3 (ipykernel)",
   "language": "python",
   "name": "python3"
  },
  "language_info": {
   "codemirror_mode": {
    "name": "ipython",
    "version": 3
   },
   "file_extension": ".py",
   "mimetype": "text/x-python",
   "name": "python",
   "nbconvert_exporter": "python",
   "pygments_lexer": "ipython3",
   "version": "3.9.13"
  }
 },
 "nbformat": 4,
 "nbformat_minor": 5
}
