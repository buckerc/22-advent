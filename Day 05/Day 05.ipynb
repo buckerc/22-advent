{
 "cells": [
  {
   "cell_type": "code",
   "execution_count": 65,
   "id": "0bb7a8db-897d-499f-a8e5-2731fc4d6239",
   "metadata": {},
   "outputs": [
    {
     "name": "stdout",
     "output_type": "stream",
     "text": [
      "[N]\n",
      "[T]\n",
      "[W]\n",
      "[Z]\n",
      "[Z]\n",
      "[W]\n",
      "[H]\n",
      "[F]\n",
      "[V]\n"
     ]
    }
   ],
   "source": [
    "import numpy as np\n",
    "next_bit = False\n",
    "crates = []\n",
    "moves = []\n",
    "with open('./inputs.txt', 'r') as file:\n",
    "    for line in file:\n",
    "        if next_bit == False:\n",
    "            if line.strip()== '':\n",
    "                next_bit = True\n",
    "                continue\n",
    "            crates.append(line[:-1])\n",
    "        else:\n",
    "            moves.append(line.strip())\n",
    "crates = np.array([c for c in crates])\n",
    "spot = {}\n",
    "\n",
    "for i in range(9):\n",
    "    spot[i+1] = []\n",
    "\n",
    "for y in range(8):    \n",
    "    for i in range(9):\n",
    "        c = crates[y][i*4:(i*4)+4].strip()\n",
    "        if c != \"\":\n",
    "            spot[i+1].append(c)\n",
    "\n",
    "real_moves = []\n",
    "for m in moves:\n",
    "    temp = m.split(' ')\n",
    "    real_moves.append([int(temp[1]), int(temp[3]),int(temp[5])])\n",
    "\n",
    "for rm in real_moves:\n",
    "    for amount in range(rm[0]):\n",
    "        pick_up = spot[rm[1]].pop(0)\n",
    "        spot[rm[2]].insert(0,pick_up)\n",
    "        \n",
    "for i in range(9):\n",
    "    print(spot[i+1][0])"
   ]
  },
  {
   "cell_type": "code",
   "execution_count": 66,
   "id": "7b09c304-ab6f-44ec-bd85-576a8f7352c2",
   "metadata": {},
   "outputs": [
    {
     "name": "stdout",
     "output_type": "stream",
     "text": [
      "[B]\n",
      "[R]\n",
      "[Z]\n",
      "[G]\n",
      "[F]\n",
      "[V]\n",
      "[B]\n",
      "[T]\n",
      "[J]\n"
     ]
    }
   ],
   "source": [
    "import numpy as np\n",
    "next_bit = False\n",
    "crates = []\n",
    "moves = []\n",
    "with open('./inputs.txt', 'r') as file:\n",
    "    for line in file:\n",
    "        if next_bit == False:\n",
    "            if line.strip()== '':\n",
    "                next_bit = True\n",
    "                continue\n",
    "            crates.append(line[:-1])\n",
    "        else:\n",
    "            moves.append(line.strip())\n",
    "            \n",
    "crates = np.array([c for c in crates])\n",
    "spot = {}\n",
    "for i in range(9):\n",
    "    spot[i+1] = []\n",
    "\n",
    "for y in range(8):    \n",
    "    for i in range(9):\n",
    "        c = crates[y][i*4:(i*4)+4].strip()\n",
    "        if c != \"\":\n",
    "            spot[i+1].append(c)\n",
    "            \n",
    "            \n",
    "for rm in real_moves:\n",
    "    pick_up = []\n",
    "    for amount in range(rm[0]):\n",
    "        pick_up.append(spot[rm[1]].pop(0))\n",
    "    pick_up = pick_up[::-1]\n",
    "    for p in pick_up:\n",
    "        spot[rm[2]].insert(0,p) \n",
    "        \n",
    "for i in range(9):\n",
    "    print(spot[i+1][0])"
   ]
  },
  {
   "cell_type": "code",
   "execution_count": null,
   "id": "fc136cf2-911b-4c58-81a4-d4cd16eabc28",
   "metadata": {},
   "outputs": [],
   "source": []
  }
 ],
 "metadata": {
  "kernelspec": {
   "display_name": "Python 3 (ipykernel)",
   "language": "python",
   "name": "python3"
  },
  "language_info": {
   "codemirror_mode": {
    "name": "ipython",
    "version": 3
   },
   "file_extension": ".py",
   "mimetype": "text/x-python",
   "name": "python",
   "nbconvert_exporter": "python",
   "pygments_lexer": "ipython3",
   "version": "3.9.13"
  }
 },
 "nbformat": 4,
 "nbformat_minor": 5
}
