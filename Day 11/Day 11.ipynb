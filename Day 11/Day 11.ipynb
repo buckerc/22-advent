{
 "cells": [
  {
   "cell_type": "code",
   "execution_count": 29,
   "id": "3d1558a4-0eda-4cee-b4dd-b728b1c26d42",
   "metadata": {},
   "outputs": [
    {
     "data": {
      "text/plain": [
       "96577"
      ]
     },
     "execution_count": 29,
     "metadata": {},
     "output_type": "execute_result"
    }
   ],
   "source": []
  },
  {
   "cell_type": "code",
   "execution_count": 1,
   "id": "54f1c07d-7873-4581-b8c5-283ebcf864c1",
   "metadata": {},
   "outputs": [
    {
     "data": {
      "text/plain": [
       "['Monkey 0:',\n",
       " 'Starting items: 79, 98',\n",
       " 'Operation: new = old * 19',\n",
       " 'Test: divisible by 23',\n",
       " 'If true: throw to monkey 2',\n",
       " 'If false: throw to monkey 3']"
      ]
     },
     "execution_count": 1,
     "metadata": {},
     "output_type": "execute_result"
    }
   ],
   "source": [
    "import numpy as np\n",
    "test = '''Monkey 0:\n",
    "  Starting items: 79, 98\n",
    "  Operation: new = old * 19\n",
    "  Test: divisible by 23\n",
    "    If true: throw to monkey 2\n",
    "    If false: throw to monkey 3\n",
    "\n",
    "Monkey 1:\n",
    "  Starting items: 54, 65, 75, 74\n",
    "  Operation: new = old + 6\n",
    "  Test: divisible by 19\n",
    "    If true: throw to monkey 2\n",
    "    If false: throw to monkey 0\n",
    "\n",
    "Monkey 2:\n",
    "  Starting items: 79, 60, 97\n",
    "  Operation: new = old * old\n",
    "  Test: divisible by 13\n",
    "    If true: throw to monkey 1\n",
    "    If false: throw to monkey 3\n",
    "\n",
    "Monkey 3:\n",
    "  Starting items: 74\n",
    "  Operation: new = old + 3\n",
    "  Test: divisible by 17\n",
    "    If true: throw to monkey 0\n",
    "    If false: throw to monkey 1'''\n",
    "\n",
    "vals = []\n",
    "for line in test.split('\\n'):\n",
    "    vals.append(line.strip())\n",
    "    \n",
    "max_monkey = 3    \n",
    "super_good = 23 * 19*13*17\n",
    "\n",
    "vals[:6]"
   ]
  },
  {
   "cell_type": "code",
   "execution_count": 38,
   "id": "4aa0eec2-9637-4562-ab6f-392c00f77157",
   "metadata": {},
   "outputs": [
    {
     "data": {
      "text/plain": [
       "['Monkey 0:',\n",
       " 'Starting items: 99, 63, 76, 93, 54, 73',\n",
       " 'Operation: new = old * 11',\n",
       " 'Test: divisible by 2',\n",
       " 'If true: throw to monkey 7']"
      ]
     },
     "execution_count": 38,
     "metadata": {},
     "output_type": "execute_result"
    }
   ],
   "source": [
    "import numpy as np\n",
    "\n",
    "vals = []\n",
    "\n",
    "with open('./input.txt','r') as file:\n",
    "    for line in file:\n",
    "        vals.append(line.strip())\n",
    "        \n",
    "max_monkey = 7       \n",
    "super_good = 2 * 17*7*11*19*5*13*3\n",
    "vals[:5]"
   ]
  },
  {
   "cell_type": "code",
   "execution_count": null,
   "id": "48218a61-eaeb-48f4-9e2a-1bbc10220a70",
   "metadata": {},
   "outputs": [],
   "source": []
  },
  {
   "cell_type": "code",
   "execution_count": null,
   "id": "4b0a062d-7dcb-474b-b624-60251b53e1ed",
   "metadata": {},
   "outputs": [],
   "source": []
  },
  {
   "cell_type": "code",
   "execution_count": 39,
   "id": "697707cc-4e57-44b7-a2e3-af5ad5e1425a",
   "metadata": {},
   "outputs": [
    {
     "name": "stdout",
     "output_type": "stream",
     "text": [
      "554\n",
      "518\n",
      "506\n",
      "61\n",
      "20\n",
      "572\n",
      "70\n",
      "57\n"
     ]
    }
   ],
   "source": [
    "\n",
    "monkeys = {}\n",
    "for i in range(max_monkey+1):\n",
    "    lines = vals[i*7:(i+1)*7]\n",
    "    m_num = int(lines[0].split(' ')[1][:-1])\n",
    "    monkeys[m_num] = {}\n",
    "    monkeys[m_num]['items'] = [i for i in lines[1].split(' ')[2:]]\n",
    "    for idx, i in enumerate(monkeys[m_num]['items']):\n",
    "        if i.isnumeric():\n",
    "            monkeys[m_num]['items'][idx] = int(i)\n",
    "        else:\n",
    "            monkeys[m_num]['items'][idx] = int(i[:-1])\n",
    "    monkeys[m_num]['opp'] = lines[2].split(' ')[-2]\n",
    "    monkeys[m_num]['opp_a'] = lines[2].split(' ')[-1]\n",
    "\n",
    "    monkeys[m_num]['test'] = lines[3].split(' ')[1]\n",
    "    monkeys[m_num]['test_a'] = int(lines[3].split(' ')[-1])\n",
    "    monkeys[m_num]['true'] = int(lines[4].split(' ')[-1])\n",
    "    monkeys[m_num]['false'] = int(lines[5].split(' ')[-1])    \n",
    "\n",
    "    monkeys[m_num]['count'] = 0\n",
    "\n",
    "\n",
    "for z in range(20):\n",
    "\n",
    "    for mm in range(max_monkey+1):\n",
    "        opp = monkeys[mm]['opp']\n",
    "        opp_a = monkeys[mm]['opp_a']\n",
    "        test = monkeys[mm]['test']\n",
    "        test_a = monkeys[mm]['test_a']\n",
    "        tt = monkeys[mm]['true']\n",
    "        ff = monkeys[mm]['false']    \n",
    "\n",
    "        if len(monkeys[mm]['items']) == 0:\n",
    "            continue\n",
    "\n",
    "        items = np.array(monkeys[mm]['items'])\n",
    "        monkeys[mm]['count'] += len(items)\n",
    "\n",
    "        if opp_a.isnumeric():\n",
    "            if opp == '*':\n",
    "                items = items * int(opp_a)\n",
    "            else:\n",
    "                items = items + int(opp_a)\n",
    "        else:\n",
    "            items = items**2\n",
    "\n",
    "        items = items // 3\n",
    "\n",
    "        monkeys[tt]['items'] = np.concatenate([monkeys[tt]['items'],items[items%test_a == 0]])\n",
    "        monkeys[ff]['items'] = np.concatenate([monkeys[ff]['items'],items[items%test_a != 0]])        \n",
    "        monkeys[mm]['items'] = []\n",
    "\n",
    "\n",
    "for mm in range(max_monkey+1):\n",
    "    print(monkeys[mm]['count'])\n",
    "        "
   ]
  },
  {
   "cell_type": "code",
   "execution_count": 42,
   "id": "ab8a471e-f61f-4b62-b2b1-734b5658c9b4",
   "metadata": {},
   "outputs": [
    {
     "name": "stdout",
     "output_type": "stream",
     "text": [
      "188167\n",
      "129800\n",
      "178936\n",
      "67599\n",
      "29921\n",
      "187442\n",
      "21583\n",
      "62690\n"
     ]
    }
   ],
   "source": [
    "\n",
    "monkeys = {}\n",
    "for i in range(max_monkey+1):\n",
    "    lines = vals[i*7:(i+1)*7]\n",
    "    m_num = int(lines[0].split(' ')[1][:-1])\n",
    "    monkeys[m_num] = {}\n",
    "    monkeys[m_num]['items'] = [i for i in lines[1].split(' ')[2:]]\n",
    "    for idx, i in enumerate(monkeys[m_num]['items']):\n",
    "        if i.isnumeric():\n",
    "            monkeys[m_num]['items'][idx] = int(i)\n",
    "        else:\n",
    "            monkeys[m_num]['items'][idx] = int(i[:-1])\n",
    "        \n",
    "    monkeys[m_num]['items'] = np.array(monkeys[m_num]['items'])\n",
    "    monkeys[m_num]['opp'] = lines[2].split(' ')[-2]\n",
    "    monkeys[m_num]['opp_a'] = lines[2].split(' ')[-1]\n",
    "\n",
    "    monkeys[m_num]['test'] = lines[3].split(' ')[1]\n",
    "    monkeys[m_num]['test_a'] = int(lines[3].split(' ')[-1])\n",
    "    monkeys[m_num]['true'] = int(lines[4].split(' ')[-1])\n",
    "    monkeys[m_num]['false'] = int(lines[5].split(' ')[-1])    \n",
    "\n",
    "    monkeys[m_num]['count'] = 0\n",
    "\n",
    "\n",
    "for z in range(10000):\n",
    "\n",
    "    for mm in range(max_monkey+1):\n",
    "        opp = monkeys[mm]['opp']\n",
    "        opp_a = monkeys[mm]['opp_a']\n",
    "        test = monkeys[mm]['test']\n",
    "        test_a = monkeys[mm]['test_a']\n",
    "        tt = monkeys[mm]['true']\n",
    "        ff = monkeys[mm]['false']    \n",
    "\n",
    "        items = np.array(monkeys[mm]['items'])\n",
    "        monkeys[mm]['count'] += len(items)\n",
    "\n",
    "        if opp_a.isnumeric():\n",
    "            if opp == '*':\n",
    "                items = items * int(opp_a)\n",
    "            elif opp == '+':\n",
    "                items = items + int(opp_a)\n",
    "            else:\n",
    "                assert 3==2\n",
    "        elif opp_a == 'old':\n",
    "            items = items**2\n",
    "        else:\n",
    "            assert 3==2\n",
    "\n",
    "        items = items % super_good\n",
    "            \n",
    "        monkeys[tt]['items'] = np.concatenate([monkeys[tt]['items'],items[items%test_a == 0]])\n",
    "        monkeys[ff]['items'] = np.concatenate([monkeys[ff]['items'],items[items%test_a != 0]])        \n",
    "        monkeys[mm]['items'] = []\n",
    "\n",
    "\n",
    "for mm in range(max_monkey+1):\n",
    "    print(monkeys[mm]['count'])\n"
   ]
  }
 ],
 "metadata": {
  "kernelspec": {
   "display_name": "Python 3 (ipykernel)",
   "language": "python",
   "name": "python3"
  },
  "language_info": {
   "codemirror_mode": {
    "name": "ipython",
    "version": 3
   },
   "file_extension": ".py",
   "mimetype": "text/x-python",
   "name": "python",
   "nbconvert_exporter": "python",
   "pygments_lexer": "ipython3",
   "version": "3.9.13"
  }
 },
 "nbformat": 4,
 "nbformat_minor": 5
}
