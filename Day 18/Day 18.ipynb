{
 "cells": [
  {
   "cell_type": "code",
   "execution_count": 1,
   "id": "edc28c71-9384-43e0-8ae2-a2a4049f4dc7",
   "metadata": {},
   "outputs": [],
   "source": [
    "import numpy as np\n",
    "import matplotlib.pyplot as plt"
   ]
  },
  {
   "cell_type": "code",
   "execution_count": 59,
   "id": "8d40f928-b1f4-4fc6-8e24-f3b4cfbb8440",
   "metadata": {},
   "outputs": [
    {
     "data": {
      "text/plain": [
       "['3,6,12', '16,15,16', '14,4,14', '6,2,7', '4,8,16']"
      ]
     },
     "execution_count": 59,
     "metadata": {},
     "output_type": "execute_result"
    }
   ],
   "source": [
    "vals = []\n",
    "with open('./input.txt', 'r') as file:\n",
    "    for line in file:\n",
    "        vals.append(line.strip())\n",
    "        \n",
    "vals[:5]"
   ]
  },
  {
   "cell_type": "code",
   "execution_count": 52,
   "id": "05d6dc92-9274-4e3b-b2f4-39eff91073e8",
   "metadata": {},
   "outputs": [
    {
     "data": {
      "text/plain": [
       "['2,2,2', '1,2,2', '3,2,2', '2,1,2', '2,3,2']"
      ]
     },
     "execution_count": 52,
     "metadata": {},
     "output_type": "execute_result"
    }
   ],
   "source": [
    "test ='''2,2,2\n",
    "1,2,2\n",
    "3,2,2\n",
    "2,1,2\n",
    "2,3,2\n",
    "2,2,1\n",
    "2,2,3\n",
    "2,2,4\n",
    "2,2,6\n",
    "1,2,5\n",
    "3,2,5\n",
    "2,1,5\n",
    "2,3,5'''\n",
    "\n",
    "vals = []\n",
    "for line in test.split('\\n'):\n",
    "    vals.append(line.strip())\n",
    "\n",
    "vals[:5]"
   ]
  },
  {
   "cell_type": "code",
   "execution_count": 60,
   "id": "5fa1b776-bc8f-42c3-a278-aab6e934ef4a",
   "metadata": {},
   "outputs": [
    {
     "data": {
      "text/plain": [
       "((0, 21), (0, 21), (0, 21))"
      ]
     },
     "execution_count": 60,
     "metadata": {},
     "output_type": "execute_result"
    }
   ],
   "source": [
    "min_x, min_y, min_z = 100,100,100\n",
    "max_x, max_y, max_z = -100,-100,-100\n",
    "landscape = np.zeros((22,22,22), dtype=int)\n",
    "for v in vals:\n",
    "    x,y,z = v.split(',')\n",
    "    x,y,z = int(x),int(y),int(z)\n",
    "\n",
    "\n",
    "    landscape[x,y,z] = 1\n",
    "    \n",
    "    if x < min_x:\n",
    "        min_x = x\n",
    "    elif x > max_x:\n",
    "        max_x = x\n",
    "        \n",
    "    if y < min_y:\n",
    "        min_y = y\n",
    "    elif y > max_y:\n",
    "        max_y = y\n",
    "\n",
    "    if z < min_z:\n",
    "        min_z = z\n",
    "    elif z > max_z:\n",
    "        max_z = z \n",
    "        \n",
    "\n",
    "(min_x, max_x), (min_y,max_y), (min_z,max_z)"
   ]
  },
  {
   "cell_type": "code",
   "execution_count": null,
   "id": "b59ca502-93ae-4eec-a3f3-2f165af23b47",
   "metadata": {},
   "outputs": [],
   "source": []
  },
  {
   "cell_type": "code",
   "execution_count": 61,
   "id": "d8e0019d-44d8-4252-9ad7-1dd3177b241d",
   "metadata": {},
   "outputs": [
    {
     "data": {
      "text/plain": [
       "4628"
      ]
     },
     "execution_count": 61,
     "metadata": {},
     "output_type": "execute_result"
    }
   ],
   "source": [
    "tots = 0\n",
    "for cube in np.argwhere(landscape==1):\n",
    "    assert min(cube) == np.abs(min(cube)), f\"We have a -ve number {cube}\"\n",
    "    assert max(cube) <= 22, f\"Landscape too small {cube}\"\n",
    "    touching = -3 + np.sum(landscape[np.max([min_x,cube[0]-1]):cube[0]+2,cube[1], cube[2]]) + \\\n",
    "        np.sum(landscape[cube[0], np.max([min_y,cube[1]-1]):cube[1]+2, cube[2]]) + \\\n",
    "        np.sum(landscape[cube[0], cube[1], np.max([min_z,cube[2]-1]):cube[2]+2])\n",
    "    touching = (touching * -1) + 6\n",
    "    tots += touching\n",
    "tots"
   ]
  },
  {
   "cell_type": "code",
   "execution_count": 100,
   "id": "868e46f5-27d8-4b05-847a-90e3ddb8c603",
   "metadata": {},
   "outputs": [],
   "source": [
    "def expand(check):\n",
    "    '''\n",
    "    state == 0 means air (untested)\n",
    "    state == 1 means lava\n",
    "    state == 2 means released to open air (and should be counted)\n",
    "    state == 3 means enclosed (and should be excluded)\n",
    "    '''\n",
    "\n",
    "    smoke = [[check[0],check[1],check[2]],]\n",
    "    \n",
    "    state = 0\n",
    "    explored = np.array([])\n",
    "    \n",
    "    wtf = 0\n",
    "    wtf_smoke = []\n",
    "\n",
    "    while len(smoke)>0:\n",
    "        wtf += 1\n",
    "        assert wtf < 100, \"WTF\"\n",
    "        new_smoke = []\n",
    "        for s in smoke:\n",
    "            x,y,z = s\n",
    "            do_it = False\n",
    "            if len(explored)==0:\n",
    "                explored = np.array([[x,y,z],])\n",
    "                do_it = True\n",
    "            else:\n",
    "                if not (s==explored).all(1).any():\n",
    "                    explored = np.vstack([explored, [x,y,z]])\n",
    "                    do_it = True\n",
    "                    \n",
    "            if not do_it:\n",
    "                continue\n",
    "\n",
    "\n",
    "            if fakescape[np.max([min_x,x-1]),y,z] == 0:\n",
    "                if len(new_smoke)==0:\n",
    "                    new_smoke = np.array([[np.max([min_x,x-1]),y,z],])\n",
    "                elif not ([np.max([min_x,x-1]),y,z] == explored).all(1).any():          \n",
    "                    new_smoke = np.vstack([new_smoke, [np.max([min_x,x-1]),y,z]])\n",
    "\n",
    "                \n",
    "            if fakescape[np.min([max_x,x+1]),y,z] == 0:\n",
    "                if len(new_smoke)==0:\n",
    "                    new_smoke = np.array([[np.min([max_x,x+1]),y,z],])\n",
    "                elif not ([np.min([max_x,x+1]),y,z] == explored).all(1).any():          \n",
    "                    new_smoke = np.vstack([new_smoke, [np.min([max_x,x+1]),y,z]])\n",
    "\n",
    "\n",
    "            if fakescape[x,np.max([min_y,y-1]),z] == 0:\n",
    "                if len(new_smoke)==0:\n",
    "                    new_smoke = np.array([[x,np.max([min_y,y-1]),z],])\n",
    "                elif not ([x,np.max([min_y,y-1]),z] == explored).all(1).any():          \n",
    "                    new_smoke = np.vstack([new_smoke, [x,np.max([min_y,y-1]),z]])\n",
    "\n",
    "                \n",
    "            if fakescape[x,np.min([max_y,y+1]),z] == 0:\n",
    "                if len(new_smoke)==0:\n",
    "                    new_smoke = np.array([[x,np.min([max_y,y+1]),z],])\n",
    "                elif not ([x,np.min([max_y,y+1]),z] == explored).all(1).any():        \n",
    "                    new_smoke = np.vstack([new_smoke, [x,np.min([max_y,y+1]),z]]) \n",
    "\n",
    "            if fakescape[x,y,np.max([min_z,z-1])] == 0:\n",
    "                if len(new_smoke)==0:\n",
    "                    new_smoke = np.array([[x,y,np.max([min_z,z-1])],])\n",
    "                elif not ([x,y,np.max([min_z,z-1])] == explored).all(1).any():             \n",
    "                    new_smoke = np.vstack([new_smoke, [x,y,np.max([min_z,z-1])]])\n",
    "\n",
    "                    \n",
    "            if fakescape[x,y,np.min([max_z,z+1])] == 0:\n",
    "                if len(new_smoke)==0:\n",
    "                    new_smoke = np.array([[x,y,np.min([max_z,z+1])],])\n",
    "                elif not ([x,y,np.min([max_z,z+1])] == explored).all(1).any():          \n",
    "                    new_smoke = np.vstack([new_smoke, [x,y,np.min([max_z,z+1])]])  \n",
    "        \n",
    "        if len(new_smoke)>0:\n",
    "            if len(new_smoke[(((new_smoke <= min_x).any()) or ((new_smoke >= max_x).any()))]) > 0:\n",
    "                state = 2\n",
    "\n",
    "            smoke = new_smoke[((new_smoke >= min_x).all(1)) & ((new_smoke <= max_x).all(1))]\n",
    "\n",
    "            \n",
    "            wtf_smoke = new_smoke[((new_smoke <= min_x).any()) or ((new_smoke >= max_x).any())]\n",
    "        else:\n",
    "            smoke = []\n",
    "            \n",
    "    if state == 0 and len(wtf_smoke)==0:     \n",
    "        state = 3\n",
    "        \n",
    "    else:\n",
    "        state = 2\n",
    "    return explored,state, wtf_smoke"
   ]
  },
  {
   "cell_type": "code",
   "execution_count": 101,
   "id": "0be1d856-5a1b-4774-bffb-5bc4dffbbf72",
   "metadata": {
    "tags": []
   },
   "outputs": [],
   "source": [
    "fakescape = landscape.copy()\n",
    "counter = 0\n",
    "\n",
    "empties = np.argwhere(fakescape==0)\n",
    "worth_checking = empties[(((empties > np.array([[min_x,min_y,min_z],])).all(1)) & \\\n",
    "                          ((empties < np.array([[max_x,max_y,max_z],])).all(1)))]     \n",
    "\n",
    "\n",
    "while len(worth_checking) !=0:    \n",
    "    checked, state,wtf = expand(worth_checking[0])\n",
    "\n",
    "    for c in checked:\n",
    "        fakescape[c[0],c[1],c[2]] = state        \n",
    "\n",
    "\n",
    "    worth_checking = []\n",
    "    empties = np.argwhere(fakescape==0)\n",
    "        \n",
    "    worth_checking = empties[(((empties > np.array([[min_x,min_y,min_z],])).all(1)) & \\\n",
    "                              ((empties < np.array([[max_x,max_y,max_z],])).all(1)))]     \n"
   ]
  },
  {
   "cell_type": "code",
   "execution_count": 112,
   "id": "9a70ce91-24b8-458b-8977-5e33ad4a86a9",
   "metadata": {},
   "outputs": [
    {
     "data": {
      "text/plain": [
       "2582"
      ]
     },
     "execution_count": 112,
     "metadata": {},
     "output_type": "execute_result"
    }
   ],
   "source": [
    "newscape = np.zeros_like(fakescape)\n",
    "for coords in np.argwhere(fakescape==3):\n",
    "    newscape[coords[0],coords[1],coords[2]] = 1\n",
    "    \n",
    "to_remove = 0\n",
    "for cube in np.argwhere(newscape==1):\n",
    "    assert min(cube) == np.abs(min(cube)), f\"We have a -ve number {cube}\"\n",
    "    assert max(cube) <= 29, f\"Landscape too small {cube}\"\n",
    "    assert min(cube) > 0\n",
    "    touching = -3 + np.sum(newscape[cube[0]-1:cube[0]+2,cube[1], cube[2]]) + \\\n",
    "        np.sum(newscape[cube[0], cube[1]-1:cube[1]+2, cube[2]]) + \\\n",
    "        np.sum(newscape[cube[0], cube[1], cube[2]-1:cube[2]+2])\n",
    "    touching = (touching * -1) + 6\n",
    "    to_remove += touching\n",
    "tots - to_remove"
   ]
  }
 ],
 "metadata": {
  "kernelspec": {
   "display_name": "Python 3 (ipykernel)",
   "language": "python",
   "name": "python3"
  },
  "language_info": {
   "codemirror_mode": {
    "name": "ipython",
    "version": 3
   },
   "file_extension": ".py",
   "mimetype": "text/x-python",
   "name": "python",
   "nbconvert_exporter": "python",
   "pygments_lexer": "ipython3",
   "version": "3.9.13"
  }
 },
 "nbformat": 4,
 "nbformat_minor": 5
}
