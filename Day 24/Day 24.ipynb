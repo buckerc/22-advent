{
 "cells": [
  {
   "cell_type": "code",
   "execution_count": 1,
   "id": "6539c117-8f4e-4f88-8546-d6497392e2c0",
   "metadata": {},
   "outputs": [],
   "source": [
    "import numpy as np\n",
    "from collections import deque"
   ]
  },
  {
   "cell_type": "code",
   "execution_count": 2,
   "id": "5dcea3d2-f0f8-4827-8118-1fc64c40c5cb",
   "metadata": {},
   "outputs": [
    {
     "data": {
      "text/plain": [
       "['#.######', '#>>.<^<#', '#.<..<<#', '#>v.><>#', '#<^v^^>#']"
      ]
     },
     "execution_count": 2,
     "metadata": {},
     "output_type": "execute_result"
    }
   ],
   "source": [
    "test = '''\n",
    "#.######\n",
    "#>>.<^<#\n",
    "#.<..<<#\n",
    "#>v.><>#\n",
    "#<^v^^>#\n",
    "######.#'''\n",
    "\n",
    "vals = []\n",
    "for line in test.split('\\n')[1:]:\n",
    "    vals.append(line)\n",
    "    \n",
    "vals[:5]"
   ]
  },
  {
   "cell_type": "code",
   "execution_count": 3,
   "id": "0789d0c2-7485-42a4-acf9-b863fe2d6bbe",
   "metadata": {},
   "outputs": [
    {
     "data": {
      "text/plain": [
       "['#.v^^>vv.v.>v<v^^.vv^.v.<^^^<>>>.v>><^^<<^<<<^v><^><<vv>v^^^<>v<<v^v.^v^>v.>>>>.v>^<<>^<^v.>v.vv><<v<<^v>.v^<<<<<>^^><vv>#',\n",
       " '########################################################################################################################.#']"
      ]
     },
     "execution_count": 3,
     "metadata": {},
     "output_type": "execute_result"
    }
   ],
   "source": [
    "vals = []\n",
    "with open('./input.txt', 'r') as file:\n",
    "    for line in file:\n",
    "        vals.append(line.strip())\n",
    "        \n",
    "vals[-2:]"
   ]
  },
  {
   "cell_type": "code",
   "execution_count": 4,
   "id": "5bd101ba-415e-4b29-86db-620d80dfc696",
   "metadata": {},
   "outputs": [
    {
     "data": {
      "text/plain": [
       "(5, 27, 122)"
      ]
     },
     "execution_count": 4,
     "metadata": {},
     "output_type": "execute_result"
    }
   ],
   "source": [
    "fakescape = np.array([([v for v in val]) for val in vals])\n",
    "landscape = np.zeros((5,*fakescape.shape))\n",
    "for y, fake in enumerate(fakescape):\n",
    "    for x, f in enumerate(fake):\n",
    "        if f == \"#\":\n",
    "            landscape[0,y,x] = 1\n",
    "        elif f == \">\":\n",
    "            landscape[1,y,x] = 1\n",
    "        elif f == \"<\":\n",
    "            landscape[2,y,x] = 1\n",
    "        elif f == \"^\":\n",
    "            landscape[3,y,x] = 1\n",
    "        elif f == \"v\":\n",
    "            landscape[4,y,x] = 1\n",
    "        else:\n",
    "            continue\n",
    "landscape.shape"
   ]
  },
  {
   "cell_type": "code",
   "execution_count": null,
   "id": "535ca2d6-7c5c-4f30-b180-e11c9a32155a",
   "metadata": {},
   "outputs": [],
   "source": []
  },
  {
   "cell_type": "code",
   "execution_count": 5,
   "id": "eb9aaacd-3883-4150-b13a-77399360d508",
   "metadata": {},
   "outputs": [
    {
     "data": {
      "text/plain": [
       "600"
      ]
     },
     "execution_count": 5,
     "metadata": {},
     "output_type": "execute_result"
    }
   ],
   "source": [
    "number_of_moves = 2000\n",
    "allscape = [landscape,]\n",
    "\n",
    "for _ in range(number_of_moves):\n",
    "    newscape = np.zeros_like(landscape)\n",
    "    for i in range(5):\n",
    "        y,x = np.argwhere(landscape[i]==1).T\n",
    "        if i == 1:\n",
    "            x += 1\n",
    "            x = np.where(x==landscape.shape[2]-1, 1, x)\n",
    "        elif i == 2:\n",
    "            x -=1 \n",
    "            x = np.where(x==0, landscape.shape[2]-2, x)\n",
    "        elif i == 3:\n",
    "            y -= 1\n",
    "            y = np.where(y==0, landscape.shape[1]-2, y)\n",
    "        elif i == 4:\n",
    "            y += 1\n",
    "            y = np.where(y==landscape.shape[1]-1, 1, y)\n",
    "\n",
    "        newscape[i,y,x] = 1\n",
    "    landscape = newscape.copy()\n",
    "    allscape.append(landscape)\n",
    "allscape = np.array(allscape).reshape((number_of_moves+1,*landscape.shape))\n",
    "repeat = np.argwhere((allscape[0]==allscape).all(1).all(1).all(1)).ravel()[1]\n",
    "repeat"
   ]
  },
  {
   "cell_type": "code",
   "execution_count": 6,
   "id": "ba23c56d-bf11-4104-816a-aee7248d1024",
   "metadata": {},
   "outputs": [],
   "source": [
    "def get_unique(situs):\n",
    "    s = np.array(situations,dtype=object).T\n",
    "    y,x = s[:2]\n",
    "    checker = np.array([f\"{Y}{X}\" for Y,X in zip(y,x)])\n",
    "\n",
    "    ar, idx = np.unique(checker,return_index=True)\n",
    "    newsit = []\n",
    "    for i in idx:\n",
    "        newsit.append(situations[i])\n",
    "    return newsit"
   ]
  },
  {
   "cell_type": "code",
   "execution_count": null,
   "id": "12d59f2e-0753-4a1e-a6d9-a7f0e6d338a8",
   "metadata": {},
   "outputs": [],
   "source": []
  },
  {
   "cell_type": "code",
   "execution_count": 10,
   "id": "f04c4e5f-0cbb-4dcb-9c3c-48fdcb43235e",
   "metadata": {},
   "outputs": [
    {
     "name": "stdout",
     "output_type": "stream",
     "text": [
      "100 316\n",
      "200 727\n",
      "\n",
      "WINNING AFTER 255 moves\n"
     ]
    }
   ],
   "source": [
    "current=[0,1]\n",
    "\n",
    "situations = [[current[0],current[1]],]\n",
    "\n",
    "counter = 0\n",
    "winning = False\n",
    "while counter < 2000 and not winning and len(situations)>0:\n",
    "    counter += 1\n",
    "    situations = get_unique(situations)\n",
    "    if counter % 100==0:\n",
    "        print(counter, len(situations))\n",
    "        \n",
    "    new_situations = []\n",
    "    for y,x in situations:\n",
    "        landscape = allscape[counter%repeat]\n",
    "\n",
    "        options = []\n",
    "        if landscape[:,y,x].sum() == 0:\n",
    "            options.append([y,x])\n",
    "        if y-1 >= 0  and landscape[:,y-1, x].sum() == 0:\n",
    "            options.append([y-1, x])\n",
    "        if y+1 < landscape.shape[1] and landscape[:,y+1, x].sum() == 0:\n",
    "            options.append([y+1, x])\n",
    "        if landscape[:,y, x-1].sum() == 0:\n",
    "            options.append([y, x-1])\n",
    "        if landscape[:,y, x+1].sum() == 0:\n",
    "            options.append([y, x+1])   \n",
    "\n",
    "        if len(options)>0:\n",
    "            for o in options:\n",
    "                Y,X = o\n",
    "                    \n",
    "                new_situations.append([Y,X])\n",
    "                if Y == landscape.shape[1]-1 and X == landscape.shape[2]-2:\n",
    "                    winning = True                    \n",
    "                    break\n",
    "\n",
    "    situations = new_situations\n",
    "if winning:\n",
    "    print(f\"\\nWINNING AFTER {counter} moves\")"
   ]
  },
  {
   "cell_type": "code",
   "execution_count": 15,
   "id": "1e467a5f-0d58-4d40-9b85-8a747ac00fc0",
   "metadata": {},
   "outputs": [
    {
     "name": "stdout",
     "output_type": "stream",
     "text": [
      "100 316\n",
      "200 727\n",
      "Now up to phase 2\n",
      "300 109\n",
      "400 483\n",
      "500 856\n",
      "Now up to phase 3\n",
      "600 205\n",
      "700 576\n",
      "800 874\n",
      "Now up to phase 4\n",
      "\n",
      "WINNING AFTER 809 moves\n"
     ]
    }
   ],
   "source": [
    "phase = 0\n",
    "\n",
    "goals = []\n",
    "goals.append([landscape.shape[1]-1 ,landscape.shape[2]-2])\n",
    "goals.append([0,1])\n",
    "goals.append([landscape.shape[1]-1 ,landscape.shape[2]-2])\n",
    "\n",
    "currents = []\n",
    "currents.append([0,1])\n",
    "currents.append([landscape.shape[1]-1 ,landscape.shape[2]-2])\n",
    "currents.append([0,1])\n",
    "\n",
    "have_been = deque(maxlen=int(repeat))\n",
    "\n",
    "situations = [[currents[phase][0],currents[phase][1],have_been],]\n",
    "counter = 0\n",
    "winning = False\n",
    "while counter < 20_000 and not winning and len(situations)>0:\n",
    "    counter += 1\n",
    "    situations = get_unique(situations)\n",
    "    if counter % 100==0:\n",
    "        print(counter, len(situations))\n",
    "        \n",
    "    new_situations = []\n",
    "    for y,x,hb in situations:\n",
    "        hb.append([y,x])     \n",
    "\n",
    "        landscape = allscape[counter%repeat]\n",
    "\n",
    "        options = []\n",
    "        if landscape[:,y,x].sum() == 0:\n",
    "            options.append([y,x])\n",
    "        if y-1 >= 0  and landscape[:,y-1, x].sum() == 0:\n",
    "            options.append([y-1, x])\n",
    "        if y+1 < landscape.shape[1] and landscape[:,y+1, x].sum() == 0:\n",
    "            options.append([y+1, x])\n",
    "        if landscape[:,y, x-1].sum() == 0:\n",
    "            options.append([y, x-1])\n",
    "        if landscape[:,y, x+1].sum() == 0:\n",
    "            options.append([y, x+1])   \n",
    "\n",
    "        if len(options)>0:\n",
    "            for o in options:\n",
    "                Y,X = o\n",
    "\n",
    "                if (len(hb)==repeat and hb[0]==[y,x]):\n",
    "                    continue   \n",
    "                    \n",
    "                new_situations.append([Y,X,hb.copy()])\n",
    "                if Y == goals[phase][0] and X == goals[phase][1]:\n",
    "                    winning = True                    \n",
    "                    break                        \n",
    "\n",
    "    situations = new_situations\n",
    "    if winning:\n",
    "        phase += 1\n",
    "        print(f\"Now up to phase {phase+1}\")\n",
    "        if phase == 3:\n",
    "            winning = True  \n",
    "            break\n",
    "        have_been = deque(maxlen=int(repeat))\n",
    "        situations = [[currents[phase][0],currents[phase][1],have_been],]\n",
    "        winning = False\n",
    "\n",
    "        \n",
    "if winning:\n",
    "    print(f\"\\nWINNING AFTER {counter} moves\")"
   ]
  }
 ],
 "metadata": {
  "kernelspec": {
   "display_name": "Python 3 (ipykernel)",
   "language": "python",
   "name": "python3"
  },
  "language_info": {
   "codemirror_mode": {
    "name": "ipython",
    "version": 3
   },
   "file_extension": ".py",
   "mimetype": "text/x-python",
   "name": "python",
   "nbconvert_exporter": "python",
   "pygments_lexer": "ipython3",
   "version": "3.9.13"
  }
 },
 "nbformat": 4,
 "nbformat_minor": 5
}
