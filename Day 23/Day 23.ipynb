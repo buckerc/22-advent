{
 "cells": [
  {
   "cell_type": "code",
   "execution_count": 1,
   "id": "40fa13b5-7aaf-4c39-8eee-c1522ed93f40",
   "metadata": {},
   "outputs": [],
   "source": [
    "import numpy as np"
   ]
  },
  {
   "cell_type": "code",
   "execution_count": 272,
   "id": "ad0a400a-a6f4-479b-a4ae-e2f2ac6e5f4f",
   "metadata": {},
   "outputs": [
    {
     "name": "stdout",
     "output_type": "stream",
     "text": [
      "....#..\n",
      "..###.#\n",
      "#...#.#\n",
      ".#...##\n",
      "#.###..\n",
      "##.#.##\n",
      ".#..#..\n"
     ]
    }
   ],
   "source": [
    "test = '''....#..\n",
    "..###.#\n",
    "#...#.#\n",
    ".#...##\n",
    "#.###..\n",
    "##.#.##\n",
    ".#..#..'''\n",
    "\n",
    "\n",
    "vals = []\n",
    "for line in test.split('\\n'):\n",
    "    vals.append(line)\n",
    "    \n",
    "for v in vals:\n",
    "    print(v)"
   ]
  },
  {
   "cell_type": "code",
   "execution_count": 276,
   "id": "78b17cdc-7093-4cce-8040-83f3ab1be094",
   "metadata": {},
   "outputs": [
    {
     "data": {
      "text/plain": [
       "['...###.....#.#....##....#..###.....#.##.#..####..#.##.....##..#####..##',\n",
       " '#..##....#####...#.#.#############...#.######.#.##.##...####.#.#.#.#.##',\n",
       " '.#..###..#..#......#..#####.....#.###..##.###.#.##..##...#.#.###.#...##',\n",
       " '#.####..#..#.##...####.##.#..##..#.#.#..#..#.......#....###...######.##',\n",
       " '..###....#...###..###...##..##.##..#.#.......#.#...########..#.##...#.#']"
      ]
     },
     "execution_count": 276,
     "metadata": {},
     "output_type": "execute_result"
    }
   ],
   "source": [
    "vals = []\n",
    "with open('./input.txt', 'r') as file:\n",
    "    for line in file:\n",
    "        vals.append(line.strip())\n",
    "        \n",
    "vals[:5]"
   ]
  },
  {
   "cell_type": "code",
   "execution_count": 277,
   "id": "14464181-c644-4a3b-9d7b-1ed8d61cb519",
   "metadata": {},
   "outputs": [
    {
     "data": {
      "text/plain": [
       "array([[0, 0, 0, ..., 0, 0, 0],\n",
       "       [0, 0, 0, ..., 0, 0, 0],\n",
       "       [0, 0, 0, ..., 0, 0, 0],\n",
       "       ...,\n",
       "       [0, 0, 0, ..., 0, 0, 0],\n",
       "       [0, 0, 0, ..., 0, 0, 0],\n",
       "       [0, 0, 0, ..., 0, 0, 0]])"
      ]
     },
     "execution_count": 277,
     "metadata": {},
     "output_type": "execute_result"
    }
   ],
   "source": [
    "landscape = np.array([])\n",
    "for val in vals:\n",
    "    temp =[]\n",
    "    for v in val:\n",
    "        if v=='.':\n",
    "            temp.append(0)\n",
    "        else:\n",
    "            temp.append(1)\n",
    "    if len(landscape)==0:\n",
    "        landscape = np.array(temp)\n",
    "    else:\n",
    "        landscape = np.vstack([landscape, temp])\n",
    "landscape\n",
    "bob = np.zeros((10000,10000), dtype=int)\n",
    "bob[int(5000-landscape.shape[0]/2):int(5000+landscape.shape[0]/2), int(5000-landscape.shape[1]/2):int(5000+landscape.shape[1]/2)] = landscape[::-1]\n",
    "\n",
    "landscape = bob\n",
    "del(bob)\n",
    "landscape"
   ]
  },
  {
   "cell_type": "code",
   "execution_count": 278,
   "id": "3bc8d924-c4c1-4f32-8c94-eb5b415f232a",
   "metadata": {},
   "outputs": [],
   "source": [
    "nth = [[ 1, 0],\n",
    "       [ 1, 1],\n",
    "       [ 1,-1]]\n",
    "sth = [[-1, 0],\n",
    "       [-1, 1],\n",
    "       [-1,-1]]\n",
    "\n",
    "wes = [[ 0,-1],\n",
    "       [ 1,-1],\n",
    "       [-1,-1]]\n",
    "\n",
    "eas = [[ 0, 1],\n",
    "       [ 1, 1],\n",
    "       [-1, 1]]\n",
    "moves = []\n",
    "moves.append(nth)\n",
    "moves.append(sth)\n",
    "moves.append(wes)\n",
    "moves.append(eas)\n",
    "moves = np.array(moves)\n"
   ]
  },
  {
   "cell_type": "code",
   "execution_count": 246,
   "id": "af7f9998-5356-42f8-84e5-e885e9e16058",
   "metadata": {},
   "outputs": [
    {
     "data": {
      "text/plain": [
       "array([[0, 2, 4],\n",
       "       [1, 4, 6],\n",
       "       [2, 5, 3],\n",
       "       [3, 6, 4],\n",
       "       [4, 6, 5]])"
      ]
     },
     "execution_count": 246,
     "metadata": {},
     "output_type": "execute_result"
    }
   ],
   "source": [
    "proposals"
   ]
  },
  {
   "cell_type": "code",
   "execution_count": null,
   "id": "a8ff3e10-910e-4e83-a6bb-11aec1f6e9a1",
   "metadata": {},
   "outputs": [],
   "source": []
  },
  {
   "cell_type": "code",
   "execution_count": 259,
   "id": "a3e1ea5d-5787-494d-a934-75b2dbe49ae6",
   "metadata": {},
   "outputs": [],
   "source": [
    "old_options = np.argwhere(landscape==1)\n",
    "for counter in range(10):\n",
    "    proposals = []\n",
    "    options = np.argwhere(landscape==1)\n",
    "    for idx, elf in enumerate(options):\n",
    "        if landscape[elf[0]-1:elf[0]+2, elf[1]-1:elf[1]+2].sum()==1:\n",
    "            continue\n",
    "        else:\n",
    "            bad_times = True        \n",
    "            for i in range(counter,len(moves)+counter):\n",
    "                move = moves[i%len(moves)]\n",
    "                if landscape[(move+elf)[:,0], (move+elf)[:,1]].sum() != 0:\n",
    "                    continue                \n",
    "                proposals.append([idx, elf[0]+move[0][0], elf[1]+move[0][1]])\n",
    "                break\n",
    "\n",
    "    proposals = np.array(proposals)\n",
    "    x = proposals[:,1:]\n",
    "    a,c = np.unique(x,axis=0, return_counts=True)\n",
    "    for C in np.argwhere(c==1):\n",
    "        y = x[(x==a[C]).all(1)][0]\n",
    "        landscape[y[0],y[1]]=1\n",
    "        o = options[proposals[(proposals[:,1:]==y).all(1)].ravel()[0]]    \n",
    "        assert landscape[o[0],o[1]]==1\n",
    "        landscape[o[0],o[1]]=0\n",
    "        \n",
    "    assert len(np.argwhere(landscape==1)) == len(old_options)\n",
    "    \n",
    "options = np.argwhere(landscape==1)\n",
    "(np.max(options[:,0]) - np.min(options[:,0]) + 1) * \\\n",
    "(np.max(options[:,1]) - np.min(options[:,1]) + 1) - len(options)"
   ]
  },
  {
   "cell_type": "code",
   "execution_count": 260,
   "id": "8e07d861-ac8a-4345-9ef6-4d8e0c9dc37e",
   "metadata": {},
   "outputs": [
    {
     "data": {
      "text/plain": [
       "3920"
      ]
     },
     "execution_count": 260,
     "metadata": {},
     "output_type": "execute_result"
    }
   ],
   "source": []
  },
  {
   "cell_type": "code",
   "execution_count": 279,
   "id": "ca0fe423-5cf0-4609-bc90-79d062117376",
   "metadata": {},
   "outputs": [
    {
     "name": "stdout",
     "output_type": "stream",
     "text": [
      "10\n",
      "20\n",
      "30\n",
      "40\n",
      "50\n",
      "60\n",
      "70\n",
      "80\n",
      "90\n",
      "100\n",
      "110\n",
      "120\n",
      "130\n",
      "140\n",
      "150\n",
      "160\n",
      "170\n",
      "180\n",
      "190\n",
      "200\n",
      "210\n",
      "220\n",
      "230\n",
      "240\n",
      "250\n",
      "260\n",
      "270\n",
      "280\n",
      "290\n",
      "300\n",
      "310\n",
      "320\n",
      "330\n",
      "340\n",
      "350\n",
      "360\n",
      "370\n",
      "380\n",
      "390\n",
      "400\n",
      "410\n",
      "420\n",
      "430\n",
      "440\n",
      "450\n",
      "460\n",
      "470\n",
      "480\n",
      "490\n",
      "500\n",
      "510\n",
      "520\n",
      "530\n",
      "540\n",
      "550\n",
      "560\n",
      "570\n",
      "580\n",
      "590\n",
      "600\n",
      "610\n",
      "620\n",
      "630\n",
      "640\n",
      "650\n",
      "660\n",
      "670\n",
      "680\n",
      "690\n",
      "700\n",
      "710\n",
      "720\n",
      "730\n",
      "740\n",
      "750\n",
      "760\n",
      "770\n",
      "780\n",
      "790\n",
      "800\n",
      "810\n",
      "820\n",
      "830\n",
      "840\n",
      "850\n",
      "860\n",
      "870\n",
      "880\n"
     ]
    },
    {
     "data": {
      "text/plain": [
       "889"
      ]
     },
     "execution_count": 279,
     "metadata": {},
     "output_type": "execute_result"
    }
   ],
   "source": [
    "old_options = np.argwhere(landscape==1)\n",
    "\n",
    "for counter in range(3000):\n",
    "    if (counter+1)%10==0:\n",
    "        print(counter+1)\n",
    "    proposals = []\n",
    "    options = np.argwhere(landscape==1)\n",
    "    for idx, elf in enumerate(options):\n",
    "        if landscape[elf[0]-1:elf[0]+2, elf[1]-1:elf[1]+2].sum()==1:\n",
    "            continue\n",
    "        else:\n",
    "            bad_times = True        \n",
    "            for i in range(counter,len(moves)+counter):\n",
    "                move = moves[i%len(moves)]\n",
    "                if landscape[(move+elf)[:,0], (move+elf)[:,1]].sum() != 0:\n",
    "                    continue                \n",
    "                proposals.append([idx, elf[0]+move[0][0], elf[1]+move[0][1]])\n",
    "                break\n",
    "\n",
    "    if len(proposals)==0:\n",
    "        break\n",
    "    proposals = np.array(proposals)\n",
    "    x = proposals[:,1:]\n",
    "    a,c = np.unique(x,axis=0, return_counts=True)\n",
    "    if len(np.argwhere(c==1))==0:\n",
    "        break\n",
    "    for C in np.argwhere(c==1):\n",
    "        y = x[(x==a[C]).all(1)][0]\n",
    "        landscape[y[0],y[1]]=1\n",
    "        o = options[proposals[(proposals[:,1:]==y).all(1)].ravel()[0]]    \n",
    "        assert landscape[o[0],o[1]]==1\n",
    "        landscape[o[0],o[1]]=0\n",
    "        \n",
    "    assert len(np.argwhere(landscape==1)) == len(old_options)\n",
    "counter+1"
   ]
  },
  {
   "cell_type": "code",
   "execution_count": 280,
   "id": "985782ec-e42e-4de5-a391-4f9df58ab05b",
   "metadata": {},
   "outputs": [
    {
     "data": {
      "text/plain": [
       "889"
      ]
     },
     "execution_count": 280,
     "metadata": {},
     "output_type": "execute_result"
    }
   ],
   "source": [
    "counter+1"
   ]
  },
  {
   "cell_type": "code",
   "execution_count": null,
   "id": "54a2cc7e-55b3-43f3-a504-e67bf45a3370",
   "metadata": {},
   "outputs": [],
   "source": []
  }
 ],
 "metadata": {
  "kernelspec": {
   "display_name": "Python 3 (ipykernel)",
   "language": "python",
   "name": "python3"
  },
  "language_info": {
   "codemirror_mode": {
    "name": "ipython",
    "version": 3
   },
   "file_extension": ".py",
   "mimetype": "text/x-python",
   "name": "python",
   "nbconvert_exporter": "python",
   "pygments_lexer": "ipython3",
   "version": "3.9.13"
  }
 },
 "nbformat": 4,
 "nbformat_minor": 5
}
