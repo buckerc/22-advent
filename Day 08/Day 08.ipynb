{
 "cells": [
  {
   "cell_type": "code",
   "execution_count": 161,
   "id": "f59d474e-8802-4bd7-82d3-f4dd945a1a78",
   "metadata": {},
   "outputs": [
    {
     "data": {
      "text/plain": [
       "array([[3, 0, 3, 7, 3],\n",
       "       [2, 5, 5, 1, 2],\n",
       "       [6, 5, 3, 3, 2],\n",
       "       [3, 3, 5, 4, 9],\n",
       "       [3, 5, 3, 9, 0]])"
      ]
     },
     "execution_count": 161,
     "metadata": {},
     "output_type": "execute_result"
    }
   ],
   "source": [
    "test = '''30373\n",
    "25512\n",
    "65332\n",
    "33549\n",
    "35390'''\n",
    "val=[]\n",
    "for t in test.split('\\n'):\n",
    "    for l in t:\n",
    "        val.append(int(l))\n",
    "val = np.reshape(val,(-1,len(t)))\n",
    "val"
   ]
  },
  {
   "cell_type": "code",
   "execution_count": 162,
   "id": "dec1ba6b-bfc2-4acb-a91f-6e17c75a8e5e",
   "metadata": {},
   "outputs": [
    {
     "data": {
      "text/plain": [
       "array([[0, 0, 0, ..., 2, 2, 2],\n",
       "       [2, 2, 1, ..., 2, 2, 0],\n",
       "       [1, 2, 2, ..., 2, 0, 2],\n",
       "       ...,\n",
       "       [0, 2, 0, ..., 0, 1, 1],\n",
       "       [1, 0, 0, ..., 0, 1, 0],\n",
       "       [0, 2, 2, ..., 1, 2, 1]])"
      ]
     },
     "execution_count": 162,
     "metadata": {},
     "output_type": "execute_result"
    }
   ],
   "source": [
    "import numpy as np\n",
    "val = []\n",
    "with open('./input.txt','r') as file:\n",
    "    for line in file:\n",
    "        for l in line.strip():\n",
    "            val.append(int(l))\n",
    "val = np.reshape(val,(-1,len(line)))\n",
    "val"
   ]
  },
  {
   "cell_type": "code",
   "execution_count": 163,
   "id": "c14784e8-22db-4eee-a0b5-e70fb8712a08",
   "metadata": {},
   "outputs": [
    {
     "data": {
      "text/plain": [
       "1785"
      ]
     },
     "execution_count": 163,
     "metadata": {},
     "output_type": "execute_result"
    }
   ],
   "source": [
    "counter = 0\n",
    "for y in range(val.shape[0]):\n",
    "    if y == 0 or y == (val.shape[0]-1):\n",
    "        continue\n",
    "        \n",
    "    for x in range(val.shape[1]):\n",
    "        if x == 0 or x == (val.shape[1]-1):\n",
    "            continue        \n",
    "        visible = False\n",
    "        if (val[y,x] > val[:y,x]).all():\n",
    "            visible = True\n",
    "        elif (val[y,x] > val[y+1:,x]).all():\n",
    "            visible = True            \n",
    "        elif (val[y,x] > val[y,:x]).all():\n",
    "            visible = True\n",
    "        elif (val[y,x] > val[y,x+1:]).all():\n",
    "            visible = True\n",
    "            \n",
    "        if visible:\n",
    "            counter += 1\n",
    "            \n",
    "counter += val.shape[0]*2 + (val.shape[1]-2)*2\n",
    "counter"
   ]
  },
  {
   "cell_type": "code",
   "execution_count": 165,
   "id": "5ea15b2b-5e15-432b-bee7-ac3ba4ee1909",
   "metadata": {},
   "outputs": [
    {
     "data": {
      "text/plain": [
       "345168"
      ]
     },
     "execution_count": 165,
     "metadata": {},
     "output_type": "execute_result"
    }
   ],
   "source": [
    "max_val = 0\n",
    "for y in range(val.shape[0]):\n",
    "    if y == 0 or y == (val.shape[0]-1):\n",
    "        continue\n",
    "        \n",
    "    for x in range(val.shape[1]):\n",
    "        if x == 0 or x == (val.shape[1]-1):\n",
    "            continue \n",
    "        left_counter = 0  \n",
    "        right_counter = 0\n",
    "        up_counter = 0\n",
    "        down_counter = 0\n",
    "\n",
    "        for xx in range(x-1,-1,-1):\n",
    "            left_counter += 1\n",
    "            if val[y,xx] >= val[y,x]:                \n",
    "                break\n",
    "                \n",
    "        for xx in range(x+1,val.shape[1]):            \n",
    "            right_counter += 1\n",
    "            if val[y,xx] >= val[y,x]:                \n",
    "                break       \n",
    "                \n",
    "        for yy in range(y-1,-1,-1):            \n",
    "            up_counter += 1\n",
    "            if val[yy,x] >= val[y,x]:\n",
    "                break\n",
    "            \n",
    "                \n",
    "        for yy in range(y+1,val.shape[0]):\n",
    "            down_counter += 1\n",
    "            if val[yy,x] >= val[y,x]:\n",
    "                break           \n",
    "        \n",
    "        if (left_counter* right_counter * up_counter * down_counter) > max_val:\n",
    "            max_val=(left_counter* right_counter * up_counter * down_counter)\n",
    "max_val"
   ]
  },
  {
   "cell_type": "code",
   "execution_count": null,
   "id": "6c789cef-c397-4025-b7d8-4a694094513a",
   "metadata": {},
   "outputs": [],
   "source": []
  }
 ],
 "metadata": {
  "kernelspec": {
   "display_name": "Python 3 (ipykernel)",
   "language": "python",
   "name": "python3"
  },
  "language_info": {
   "codemirror_mode": {
    "name": "ipython",
    "version": 3
   },
   "file_extension": ".py",
   "mimetype": "text/x-python",
   "name": "python",
   "nbconvert_exporter": "python",
   "pygments_lexer": "ipython3",
   "version": "3.9.13"
  }
 },
 "nbformat": 4,
 "nbformat_minor": 5
}
