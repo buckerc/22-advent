{
 "cells": [
  {
   "cell_type": "code",
   "execution_count": 3,
   "id": "72ba32f5-9868-4463-ab01-08105325b3ff",
   "metadata": {},
   "outputs": [],
   "source": [
    "import pandas as pd\n",
    "import numpy as np"
   ]
  },
  {
   "cell_type": "code",
   "execution_count": 4,
   "id": "ba758549-2423-488e-a93e-109bbb2a9119",
   "metadata": {},
   "outputs": [
    {
     "data": {
      "text/plain": [
       "['498,4 -> 498,6 -> 496,6', '503,4 -> 502,4 -> 502,9 -> 494,9']"
      ]
     },
     "execution_count": 4,
     "metadata": {},
     "output_type": "execute_result"
    }
   ],
   "source": [
    "test ='''498,4 -> 498,6 -> 496,6\n",
    "503,4 -> 502,4 -> 502,9 -> 494,9'''\n",
    "\n",
    "vals = []\n",
    "for line in test.split('\\n'):\n",
    "    vals.append(line.strip())\n",
    "\n",
    "vals[:5]\n"
   ]
  },
  {
   "cell_type": "code",
   "execution_count": 8,
   "id": "b9bf9e0c-4527-4fc1-a3fe-b2d8eef14de6",
   "metadata": {},
   "outputs": [
    {
     "data": {
      "text/plain": [
       "['521,154 -> 526,154',\n",
       " '474,44 -> 474,38 -> 474,44 -> 476,44 -> 476,39 -> 476,44 -> 478,44 -> 478,34 -> 478,44 -> 480,44 -> 480,40 -> 480,44 -> 482,44 -> 482,36 -> 482,44 -> 484,44 -> 484,34 -> 484,44 -> 486,44 -> 486,38 -> 486,44 -> 488,44 -> 488,36 -> 488,44 -> 490,44 -> 490,36 -> 490,44',\n",
       " '499,13 -> 499,17 -> 493,17 -> 493,24 -> 507,24 -> 507,17 -> 501,17 -> 501,13',\n",
       " '497,80 -> 497,83 -> 489,83 -> 489,87 -> 505,87 -> 505,83 -> 501,83 -> 501,80',\n",
       " '471,77 -> 475,77']"
      ]
     },
     "execution_count": 8,
     "metadata": {},
     "output_type": "execute_result"
    }
   ],
   "source": [
    "vals = []\n",
    "with open('./input.txt', 'r') as file:\n",
    "    for line in file:\n",
    "        vals.append(line.strip())\n",
    "        \n",
    "vals[:5]"
   ]
  },
  {
   "cell_type": "code",
   "execution_count": 9,
   "id": "455ee4a2-0348-49e0-b6a2-ac64808a7793",
   "metadata": {},
   "outputs": [
    {
     "data": {
      "text/plain": [
       "(167.0, 0.0)"
      ]
     },
     "execution_count": 9,
     "metadata": {},
     "output_type": "execute_result"
    },
    {
     "data": {
      "image/png": "[encoded data removed]",
      "text/plain": [
       "<Figure size 432x288 with 1 Axes>"
      ]
     },
     "metadata": {
      "needs_background": "light"
     },
     "output_type": "display_data"
    }
   ],
   "source": [
    "\n",
    "filled_x = np.array([])\n",
    "filled_y = np.array([])\n",
    "for v in vals:\n",
    "    x,y = [], []\n",
    "    for coords in v.split(' -> '):\n",
    "        temp_x,temp_y = coords.split(',')\n",
    "        x.append(int(temp_x))\n",
    "        y.append(int(temp_y))\n",
    "    for i, (X,Y) in enumerate(zip(x[:-1],y[:-1])):\n",
    "        min_x = np.min([x[i],x[i+1]])\n",
    "        max_x = np.max([x[i],x[i+1]])\n",
    "\n",
    "        min_y = np.min([y[i],y[i+1]])\n",
    "        max_y = np.max([y[i],y[i+1]])\n",
    "     \n",
    "        if min_x==max_x:\n",
    "            filled_x = np.concatenate([filled_x, [min_x]*(max_y-min_y+1)])    \n",
    "            filled_y = np.concatenate([filled_y, np.arange(min_y,max_y+1)])    \n",
    "            \n",
    "        elif min_y==max_y:\n",
    "            filled_y = np.concatenate([filled_y, [min_y]*(max_x-min_x+1)])\n",
    "            filled_x = np.concatenate([filled_x, np.arange(min_x,max_x+1)])\n",
    "            \n",
    "        else:\n",
    "            filled_x = np.concatenate([filled_x, np.arange(min_x,max_x+1)])\n",
    "            filled_y = np.concatenate([filled_y, np.arange(min_y,max_y+1)])    \n",
    "            \n",
    "        assert len(filled_x)==len(filled_y)\n",
    "            \n",
    "min_x, max_x, min_y, max_y = np.min(filled_x), np.max(filled_x), np.min(filled_y), np.max(filled_y)\n",
    "\n",
    "landscape = np.zeros((int(max_x)+500, int(max_y)+3), dtype=int)\n",
    "for x,y in zip(filled_x, filled_y):\n",
    "    landscape[int(x),int(y)] = 1\n",
    "    \n",
    "import matplotlib.pyplot as plt\n",
    "\n",
    "plt.scatter(x=filled_x, y=filled_y, marker='.')\n",
    "plt.scatter(x=[500,500], y=[0,0], marker='o', c='r')\n",
    "plt.xlim(min_x,max_x)\n",
    "plt.ylim(max_y,0)"
   ]
  },
  {
   "cell_type": "code",
   "execution_count": 10,
   "id": "f2d603ba-8789-42b6-bb80-8cd454694535",
   "metadata": {},
   "outputs": [
    {
     "data": {
      "text/plain": [
       "(462.0, 558.0)"
      ]
     },
     "execution_count": 10,
     "metadata": {},
     "output_type": "execute_result"
    },
    {
     "data": {
      "image/png": "[encoded data removed]",
      "text/plain": [
       "<Figure size 432x288 with 1 Axes>"
      ]
     },
     "metadata": {
      "needs_background": "light"
     },
     "output_type": "display_data"
    }
   ],
   "source": [
    "\n",
    "counter = 0\n",
    "winning = False\n",
    "\n",
    "while not winning:\n",
    "    counter += 1\n",
    "    falling_sand = [500,0]\n",
    "    sand='falling'\n",
    "    while not winning and sand=='falling':\n",
    "        if landscape[falling_sand[0],falling_sand[1]+1] == 0:\n",
    "            falling_sand[1] += 1\n",
    "        elif landscape[falling_sand[0]-1,falling_sand[1]+1] == 0:\n",
    "            falling_sand[0] -= 1\n",
    "            falling_sand[1] += 1\n",
    "        elif landscape[falling_sand[0]+1,falling_sand[1]+1] == 0:\n",
    "            falling_sand[0] += 1\n",
    "            falling_sand[1] += 1    \n",
    "        else:\n",
    "            landscape[falling_sand[0],falling_sand[1]] = -1\n",
    "            sand='not_falling'\n",
    "\n",
    "        if falling_sand[0] < min_x or falling_sand[0]> max_x:\n",
    "            winning = True\n",
    "            \n",
    "counter - 1\n",
    "soil = np.argwhere(landscape==1)\n",
    "sand = np.argwhere(landscape==-1)\n",
    "\n",
    "plt.scatter(soil[...,0],soil[...,1], marker='.',c='b')\n",
    "plt.scatter(sand[...,0],sand[...,1], marker=',',c='g', alpha=0.5, s=1)\n",
    "plt.scatter(x=[500,500], y=[0,0], marker='o', c='r')\n",
    "plt.ylim(max_y+2,0)\n",
    "plt.xlim(min_x-2,max_x+2)"
   ]
  },
  {
   "cell_type": "code",
   "execution_count": 11,
   "id": "39ef8d67-435f-4548-9e05-3bb5e374a6b8",
   "metadata": {},
   "outputs": [
    {
     "data": {
      "text/plain": [
       "25289"
      ]
     },
     "execution_count": 11,
     "metadata": {},
     "output_type": "execute_result"
    },
    {
     "data": {
      "image/png": "[encoded data removed]",
      "text/plain": [
       "<Figure size 432x288 with 1 Axes>"
      ]
     },
     "metadata": {
      "needs_background": "light"
     },
     "output_type": "display_data"
    }
   ],
   "source": [
    "landscape[:,int(max_y)+2] = 1\n",
    "\n",
    "\n",
    "counter = 0\n",
    "winning = False\n",
    "\n",
    "while not winning:\n",
    "    counter += 1\n",
    "    falling_sand = [500,0]\n",
    "    sand='falling'\n",
    "    while not winning and sand=='falling':\n",
    "        if landscape[falling_sand[0],falling_sand[1]+1] == 0:\n",
    "            falling_sand[1] += 1\n",
    "        elif landscape[falling_sand[0]-1,falling_sand[1]+1] == 0:\n",
    "            falling_sand[0] -= 1\n",
    "            falling_sand[1] += 1\n",
    "        elif landscape[falling_sand[0]+1,falling_sand[1]+1] == 0:\n",
    "            falling_sand[0] += 1\n",
    "            falling_sand[1] += 1    \n",
    "        else:\n",
    "            landscape[falling_sand[0],falling_sand[1]] = -1\n",
    "            sand='not_falling'\n",
    "\n",
    "        if falling_sand[0] == 500 and falling_sand[1]==0:\n",
    "            winning = True\n",
    "\n",
    "            \n",
    "soil = np.argwhere(landscape==1)\n",
    "sand = np.argwhere(landscape==-1)\n",
    "\n",
    "plt.scatter(soil[...,0],soil[...,1], marker='.',c='b')\n",
    "plt.scatter(sand[...,0],sand[...,1], marker=',',c='g', alpha=0.05, s=1)\n",
    "plt.scatter(x=[500,500], y=[0,0], marker='o', c='r')\n",
    "plt.ylim(max_y+2,0)\n",
    "plt.xlim(300,700)            \n",
    "counter"
   ]
  },
  {
   "cell_type": "code",
   "execution_count": null,
   "id": "1567bd9c-a9a1-49c8-846b-c00ce26a265f",
   "metadata": {},
   "outputs": [],
   "source": []
  },
  {
   "cell_type": "code",
   "execution_count": null,
   "id": "09b761e9-8412-4a82-841b-9e3ce862bd3a",
   "metadata": {},
   "outputs": [],
   "source": []
  },
  {
   "cell_type": "code",
   "execution_count": null,
   "id": "cf3f62fe-eeb2-424b-9b4a-50320dea76ef",
   "metadata": {},
   "outputs": [],
   "source": []
  }
 ],
 "metadata": {
  "kernelspec": {
   "display_name": "Python 3 (ipykernel)",
   "language": "python",
   "name": "python3"
  },
  "language_info": {
   "codemirror_mode": {
    "name": "ipython",
    "version": 3
   },
   "file_extension": ".py",
   "mimetype": "text/x-python",
   "name": "python",
   "nbconvert_exporter": "python",
   "pygments_lexer": "ipython3",
   "version": "3.9.13"
  }
 },
 "nbformat": 4,
 "nbformat_minor": 5
}
