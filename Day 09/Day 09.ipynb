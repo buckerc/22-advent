{
 "cells": [
  {
   "cell_type": "code",
   "execution_count": 58,
   "id": "b5c0982b-9382-4fd5-9e65-280aac37895f",
   "metadata": {},
   "outputs": [
    {
     "data": {
      "text/plain": [
       "['R 4', 'U 4', 'L 3', 'D 1', 'R 4', 'D 1', 'L 5', 'R 2']"
      ]
     },
     "execution_count": 58,
     "metadata": {},
     "output_type": "execute_result"
    }
   ],
   "source": [
    "test = '''R 4\n",
    "U 4\n",
    "L 3\n",
    "D 1\n",
    "R 4\n",
    "D 1\n",
    "L 5\n",
    "R 2'''\n",
    "\n",
    "vals = []\n",
    "for t in test.split('\\n'):\n",
    "    vals.append(t)\n",
    "vals"
   ]
  },
  {
   "cell_type": "code",
   "execution_count": 82,
   "id": "24f09d26-bb1a-4ae2-adbe-9b612d6decdd",
   "metadata": {},
   "outputs": [
    {
     "data": {
      "text/plain": [
       "(2000, ['R 1', 'U 2', 'L 1', 'R 2', 'L 1'])"
      ]
     },
     "execution_count": 82,
     "metadata": {},
     "output_type": "execute_result"
    }
   ],
   "source": [
    "import numpy as np\n",
    "import pandas as pd\n",
    "vals = []\n",
    "\n",
    "with open('./input.txt', 'r') as file:\n",
    "    for line in file:\n",
    "        vals.append(line.strip())\n",
    "len(vals), vals[:5]"
   ]
  },
  {
   "cell_type": "code",
   "execution_count": 83,
   "id": "7b2f7188-2767-4809-a15d-bd420e733835",
   "metadata": {},
   "outputs": [],
   "source": [
    "step = []\n",
    "for v in vals:\n",
    "    direction, amount = v.split(' ')\n",
    "    amount = int(amount)\n",
    "    step.append({\n",
    "        'dir':direction,\n",
    "        'amount': amount\n",
    "    })\n",
    "df = pd.DataFrame(step)"
   ]
  },
  {
   "cell_type": "code",
   "execution_count": null,
   "id": "93703a9f-b48d-414f-a16f-6ec7bfb2bbb2",
   "metadata": {},
   "outputs": [],
   "source": []
  },
  {
   "cell_type": "code",
   "execution_count": 84,
   "id": "daf4cebe-1132-40c3-97eb-71ca295776f3",
   "metadata": {},
   "outputs": [],
   "source": [
    "H = [[0,0],]\n",
    "for row in df.iloc():\n",
    "    for _ in range(row['amount']):\n",
    "        if row['dir']=='R':\n",
    "            H.append([H[-1][0], H[-1][1] + 1])\n",
    "        elif row['dir']=='L':\n",
    "            H.append([H[-1][0], H[-1][1] - 1])\n",
    "        elif row['dir']=='U':\n",
    "            H.append([H[-1][0]+ 1, H[-1][1] ])\n",
    "        elif row['dir']=='D':\n",
    "            H.append([H[-1][0] - 1, H[-1][1] ])"
   ]
  },
  {
   "cell_type": "code",
   "execution_count": 85,
   "id": "c1b0bf3d-2bfa-4624-b82a-b622947d6f75",
   "metadata": {},
   "outputs": [
    {
     "data": {
      "text/plain": [
       "[[0, 0], [0, 1], [1, 1], [2, 1]]"
      ]
     },
     "execution_count": 85,
     "metadata": {},
     "output_type": "execute_result"
    }
   ],
   "source": [
    "H[:4]"
   ]
  },
  {
   "cell_type": "code",
   "execution_count": 86,
   "id": "1bd1735f-f260-4a79-bee9-0fbb4c8ffb4a",
   "metadata": {},
   "outputs": [],
   "source": [
    "\n",
    "def wtf(H,T):\n",
    "    T = [[0,0],]\n",
    "    been = []\n",
    "    for h in H[1:]:\n",
    "        tx = T[-1][1]\n",
    "        ty = T[-1][0]\n",
    "        hx = h[1]\n",
    "        hy = h[0]\n",
    "        if abs(hy-ty) <= 1 and abs(hx-tx) <= 1:\n",
    "            T.append([ty,tx])\n",
    "\n",
    "        elif hy-ty == 0:\n",
    "            if abs(hx-tx) <= 1:\n",
    "                T.append([ty,tx])\n",
    "            elif hx-tx > 0:\n",
    "                T.append([ty,tx+1])\n",
    "            elif hx-tx < 0:\n",
    "                T.append([ty,tx-1])\n",
    "            else:\n",
    "                assert 3==2\n",
    "        elif hx-tx == 0:\n",
    "            if abs(hy-ty) <= 1:\n",
    "                T.append([ty,tx])\n",
    "            elif hy-ty > 0:\n",
    "                T.append([ty+1,tx])\n",
    "            elif hy-ty < 0:\n",
    "                T.append([ty-1,tx])\n",
    "            else:\n",
    "                assert 3==2\n",
    "        elif abs(hx-tx) == abs(hy-ty):\n",
    "            if hx-tx == 1:\n",
    "                T.append([ty,tx])\n",
    "            elif hx-tx > 0 and hy-ty > 0 :\n",
    "                T.append([ty+1,tx+1])\n",
    "            elif hx-tx > 0 and hy-ty < 0 :\n",
    "                T.append([ty-1,tx+1])\n",
    "            elif hx-tx < 0 and hy-ty > 0 :\n",
    "                T.append([ty+1,tx-1])            \n",
    "            elif hx-tx < 0 and hy-ty < 0 :\n",
    "                T.append([ty-1,tx-1])            \n",
    "            else:\n",
    "                assert 3==2\n",
    "        else:\n",
    "\n",
    "            if hy-ty > 0 and hx-tx > 0:\n",
    "                T.append([ty+1, tx+1])\n",
    "            elif hy-ty < 0 and hx-tx > 0:\n",
    "                T.append([ty-1, tx+1])               \n",
    "            elif hy-ty > 0 and hx-tx < 0:\n",
    "                T.append([ty+1, tx-1])                \n",
    "            elif hy-ty < 0 and hx-tx < 0:\n",
    "                T.append([ty-1, tx-1])\n",
    "            else:\n",
    "                assert 3==2\n",
    "\n",
    "        if T[-1] not in been:\n",
    "            been.append(T[-1])\n",
    "    return T, been\n"
   ]
  },
  {
   "cell_type": "code",
   "execution_count": 87,
   "id": "93de911b-3ed0-4e7f-9f5e-3c90346a99b1",
   "metadata": {},
   "outputs": [
    {
     "data": {
      "text/plain": [
       "2691"
      ]
     },
     "execution_count": 87,
     "metadata": {},
     "output_type": "execute_result"
    }
   ],
   "source": [
    "T=[[0,0]]\n",
    "for i in range(9):\n",
    "    H,been = wtf(H[1:],T)\n",
    "len(been)"
   ]
  },
  {
   "cell_type": "code",
   "execution_count": null,
   "id": "b6e0f40b-500e-4559-97e6-256b15edf3c0",
   "metadata": {},
   "outputs": [],
   "source": []
  },
  {
   "cell_type": "code",
   "execution_count": null,
   "id": "0bfc6a9f-87e7-42fc-9631-494403a49214",
   "metadata": {},
   "outputs": [],
   "source": []
  },
  {
   "cell_type": "code",
   "execution_count": null,
   "id": "6146cdc4-30cc-44c8-9857-92e15af3720c",
   "metadata": {},
   "outputs": [],
   "source": []
  }
 ],
 "metadata": {
  "kernelspec": {
   "display_name": "Python 3 (ipykernel)",
   "language": "python",
   "name": "python3"
  },
  "language_info": {
   "codemirror_mode": {
    "name": "ipython",
    "version": 3
   },
   "file_extension": ".py",
   "mimetype": "text/x-python",
   "name": "python",
   "nbconvert_exporter": "python",
   "pygments_lexer": "ipython3",
   "version": "3.9.13"
  }
 },
 "nbformat": 4,
 "nbformat_minor": 5
}
