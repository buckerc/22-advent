{
 "cells": [
  {
   "cell_type": "code",
   "execution_count": 20,
   "id": "0fdfaa3b-150c-4575-b416-c5690caba9c9",
   "metadata": {},
   "outputs": [],
   "source": [
    "from collections import deque\n",
    "\n",
    "with open('./input.txt', 'r') as file:\n",
    "    for line in file:\n",
    "        text = line.strip()  #it is only 1 line!!!\n",
    "\n",
    "for question_number in [4,14]:\n",
    "    \n",
    "    que = deque(maxlen=question_number)\n",
    "    \n",
    "    for idx, t in enumerate(text):\n",
    "        que.append(t)\n",
    "\n",
    "        if len(set(que)) == question_number:\n",
    "            break\n",
    "\n",
    "    print(idx + 1)"
   ]
  }
 ],
 "metadata": {
  "kernelspec": {
   "display_name": "Python 3 (ipykernel)",
   "language": "python",
   "name": "python3"
  },
  "language_info": {
   "codemirror_mode": {
    "name": "ipython",
    "version": 3
   },
   "file_extension": ".py",
   "mimetype": "text/x-python",
   "name": "python",
   "nbconvert_exporter": "python",
   "pygments_lexer": "ipython3",
   "version": "3.9.13"
  }
 },
 "nbformat": 4,
 "nbformat_minor": 5
}
