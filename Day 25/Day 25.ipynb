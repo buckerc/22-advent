{
 "cells": [
  {
   "cell_type": "code",
   "execution_count": 1,
   "id": "b099ddce-2317-4ef9-a125-8b419284002a",
   "metadata": {},
   "outputs": [],
   "source": [
    "import numpy as np"
   ]
  },
  {
   "cell_type": "code",
   "execution_count": 356,
   "id": "8513f670-dc2c-4eda-90f9-d3525c6ee808",
   "metadata": {},
   "outputs": [],
   "source": [
    "vals = []\n",
    "with open('./input.txt', 'r') as file:\n",
    "    for line in file:\n",
    "        vals.append(line.strip())"
   ]
  },
  {
   "cell_type": "code",
   "execution_count": 296,
   "id": "1f660cab-6a8f-4b37-9e41-f681f20d1317",
   "metadata": {},
   "outputs": [
    {
     "data": {
      "text/plain": [
       "['1=-0-2', '12111', '2=0=', '21', '2=01']"
      ]
     },
     "execution_count": 296,
     "metadata": {},
     "output_type": "execute_result"
    }
   ],
   "source": [
    "test = '''1=-0-2\n",
    "12111\n",
    "2=0=\n",
    "21\n",
    "2=01\n",
    "111\n",
    "20012\n",
    "112\n",
    "1=-1=\n",
    "1-12\n",
    "12\n",
    "1=\n",
    "122'''\n",
    "\n",
    "vals = []\n",
    "for line in test.split('\\n'):\n",
    "    vals.append(line)\n",
    "\n",
    "vals[:5]"
   ]
  },
  {
   "cell_type": "code",
   "execution_count": 361,
   "id": "eb196016-cdc9-4465-bc20-5aed37f5f646",
   "metadata": {},
   "outputs": [
    {
     "data": {
      "text/plain": [
       "'20-1-11==0-=0112-222'"
      ]
     },
     "execution_count": 361,
     "metadata": {},
     "output_type": "execute_result"
    }
   ],
   "source": [
    "max_l = -1\n",
    "for v in vals:\n",
    "    if len(v)>max_l:\n",
    "        max_l=len(v)\n",
    "max_l\n",
    "\n",
    "numbers = np.zeros((len(vals),max_l))\n",
    "\n",
    "for y, val in enumerate(vals):\n",
    "    for x,v in enumerate(val[::-1]):\n",
    "        if v=='2':\n",
    "            numbers[y,x]=2\n",
    "        elif v=='1':\n",
    "            numbers[y,x]=1\n",
    "        elif v=='0':\n",
    "            numbers[y,x]=0\n",
    "        elif v=='-':\n",
    "            numbers[y,x]=-1\n",
    "        elif v=='=':\n",
    "            numbers[y,x]=-2\n",
    "        else:\n",
    "            assert 3==2\n",
    "decimal = 0\n",
    "for number in numbers:\n",
    "    for idx, num in enumerate(number):\n",
    "        decimal += num*(5**(idx))\n",
    "\n",
    "        \n",
    "'''\n",
    "\n",
    "Solved this 2 digits at a time because the -ve numbers when combined \n",
    "with +ve was giving me a headache.  Every pass through the code will \n",
    "only insert the most significant bit of the pair\n",
    "\n",
    "''' \n",
    "\n",
    "idx = int(np.log10(decimal) / np.log10(5))\n",
    "\n",
    "SNAFU = ''\n",
    "\n",
    "while idx >= 0:\n",
    "    sign = np.sign(decimal)\n",
    "    if sign == 0:\n",
    "        num = 0\n",
    "    else:\n",
    "        nums = []\n",
    "        yx = []\n",
    "        '''\n",
    "        the pair will be y,x.  In normal base 10 counting it is like saying\n",
    "        i'm going to compare 82, or 17.  Once I find the best result (which \n",
    "        I've defined as the pair that brings the absolute total closest to \n",
    "        0), I store the most signficant number.  In the example above this \n",
    "        would be 8 (for 82) or 1 (for 17).\n",
    "        '''\n",
    "        for y in range(-2,3):\n",
    "            for x in range(-2,3):\n",
    "                nums.append(decimal-y*5**idx-x*5**(idx-1))\n",
    "                yx.append([y,x])\n",
    "                    \n",
    "        num = yx[np.argmin(np.abs(nums))][0]    \n",
    "    \n",
    "    decimal = decimal - num*5**idx\n",
    "            \n",
    "    if num == 2:\n",
    "        SNAFU += '2'\n",
    "    elif num == 1:\n",
    "        SNAFU += '1'\n",
    "    elif num == 0:\n",
    "        SNAFU += '0'\n",
    "    elif num == -1:\n",
    "        SNAFU += '-'\n",
    "    elif num == -2:\n",
    "        SNAFU += '='\n",
    "\n",
    "    idx -= 1   \n",
    "\n",
    "SNAFU"
   ]
  }
 ],
 "metadata": {
  "kernelspec": {
   "display_name": "Python 3 (ipykernel)",
   "language": "python",
   "name": "python3"
  },
  "language_info": {
   "codemirror_mode": {
    "name": "ipython",
    "version": 3
   },
   "file_extension": ".py",
   "mimetype": "text/x-python",
   "name": "python",
   "nbconvert_exporter": "python",
   "pygments_lexer": "ipython3",
   "version": "3.9.13"
  }
 },
 "nbformat": 4,
 "nbformat_minor": 5
}
