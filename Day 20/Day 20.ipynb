{
 "cells": [
  {
   "cell_type": "code",
   "execution_count": 2,
   "id": "a890262b-2f53-4629-b75c-5791c08f11cf",
   "metadata": {},
   "outputs": [],
   "source": [
    "import numpy as np\n",
    "import pandas as pd"
   ]
  },
  {
   "cell_type": "code",
   "execution_count": 469,
   "id": "171b9327-e1a3-42f4-8c93-3052bd42417d",
   "metadata": {},
   "outputs": [
    {
     "data": {
      "text/plain": [
       "[5479, 2312, -375, -585, -2250]"
      ]
     },
     "execution_count": 469,
     "metadata": {},
     "output_type": "execute_result"
    }
   ],
   "source": [
    "vals = []\n",
    "with open('./input.txt', 'r') as file:\n",
    "    for line in file:\n",
    "        vals.append(int(line.strip()))\n",
    "        \n",
    "vals[-5:]"
   ]
  },
  {
   "cell_type": "code",
   "execution_count": 452,
   "id": "b62ce041-22b5-4a75-acc1-9d4d2eada6aa",
   "metadata": {},
   "outputs": [
    {
     "data": {
      "text/plain": [
       "[1, 2, -3, 3, -2, 0, 4]"
      ]
     },
     "execution_count": 452,
     "metadata": {},
     "output_type": "execute_result"
    }
   ],
   "source": [
    "test = '''1\n",
    "2\n",
    "-3\n",
    "3\n",
    "-2\n",
    "0\n",
    "4'''\n",
    "\n",
    "vals = []\n",
    "for line in test.split('\\n'):\n",
    "    vals.append(int(line))\n",
    "    \n",
    "vals"
   ]
  },
  {
   "cell_type": "code",
   "execution_count": null,
   "id": "d3ca9758-bf16-4acb-acb6-9e3f087c1fe2",
   "metadata": {},
   "outputs": [],
   "source": []
  },
  {
   "cell_type": "code",
   "execution_count": 342,
   "id": "8d0f926f-e1dd-4762-a899-ecb262b0cfc5",
   "metadata": {},
   "outputs": [
    {
     "data": {
      "text/plain": [
       "1087"
      ]
     },
     "execution_count": 342,
     "metadata": {},
     "output_type": "execute_result"
    }
   ],
   "source": [
    "sequence = []\n",
    "for i,v in enumerate(vals):\n",
    "    sequence.append({\n",
    "        'num':v,\n",
    "        'idx':i\n",
    "    })\n",
    "    \n",
    "df = pd.DataFrame(sequence)\n",
    "orig_len = len(sequence)\n",
    "\n",
    "for idx in range(orig_len):\n",
    "\n",
    "    row = df[df['idx']==idx]\n",
    "    num = row['num'].values[0]\n",
    "\n",
    "    current_idx = row.index[0]\n",
    "    new_idx = current_idx + num\n",
    "\n",
    "    temp_df = df.iloc[df[df['idx']!=idx].index]\n",
    "        \n",
    "    while new_idx <= 0:\n",
    "        new_idx += orig_len-1\n",
    "\n",
    "    while (new_idx) >= orig_len:\n",
    "        new_idx -= orig_len-1\n",
    "        \n",
    "    if (orig_len-new_idx+1) >= len(df):        \n",
    "        while (orig_len-new_idx+1) >= len(temp_df):\n",
    "            temp_df = pd.concat([temp_df,df[df['idx']!=idx]]).reset_index(drop=True)\n",
    "    \n",
    "    df = temp_df.copy()\n",
    "    \n",
    "    assert new_idx > 0 and (orig_len-new_idx) < len(df)\n",
    "\n",
    "    line = pd.DataFrame({'num':num, 'idx':idx}, index=[new_idx])\n",
    "\n",
    "    df = pd.concat([df[:new_idx],line, df[new_idx:]]).reset_index(drop=True)\n",
    "    df = df.iloc[:orig_len]\n",
    "    assert len(df)==orig_len\n",
    "\n",
    "\n",
    "    a = df['idx'].unique()\n",
    "    a.sort()\n",
    "    assert (a==np.arange(orig_len)[:len(a)]).all(), \"MESSED UP\"\n",
    "\n",
    "ans = 0\n",
    "for i in [1000,2000,3000]:\n",
    "    ans += df.iloc[(df[df['num']==0].index[0]+i)%len(sequence)]['num']\n",
    "ans"
   ]
  },
  {
   "cell_type": "code",
   "execution_count": 470,
   "id": "d3a0a35e-77d5-4a05-8a2a-0c26e1715376",
   "metadata": {},
   "outputs": [],
   "source": [
    "d_key = 811589153\n",
    "#d_key = 1"
   ]
  },
  {
   "cell_type": "code",
   "execution_count": 471,
   "id": "ae84b4e6-085b-40c9-a2ef-01304430d51f",
   "metadata": {},
   "outputs": [
    {
     "name": "stdout",
     "output_type": "stream",
     "text": [
      "0\n",
      "1\n",
      "2\n",
      "3\n",
      "4\n",
      "5\n",
      "6\n",
      "7\n",
      "8\n",
      "9\n"
     ]
    },
    {
     "data": {
      "text/plain": [
       "13084440324666"
      ]
     },
     "execution_count": 471,
     "metadata": {},
     "output_type": "execute_result"
    }
   ],
   "source": [
    "sequence = []\n",
    "for i,v in enumerate(vals):\n",
    "    sequence.append({\n",
    "        'num':v*d_key,\n",
    "        'idx':i\n",
    "    })\n",
    "    \n",
    "df = pd.DataFrame(sequence)\n",
    "\n",
    "orig_len = len(sequence)\n",
    "for wtf in range(10):\n",
    "    print(wtf+1)\n",
    "    for idx in range(orig_len):\n",
    "\n",
    "        row = df[df['idx']==idx]\n",
    "        num = row['num'].values[0]\n",
    "\n",
    "        current_idx = row.index[0]\n",
    "        new_idx = current_idx + num\n",
    "\n",
    "        temp_df = df.iloc[df[df['idx']!=idx].index]\n",
    "\n",
    "        broken = 0\n",
    "        \n",
    "        while new_idx <= 0 or new_idx >= orig_len:\n",
    "            broken += 1\n",
    "            if broken == 10:\n",
    "                assert 3==2\n",
    "            if new_idx <= 0:\n",
    "                new_idx = new_idx + int(-new_idx / (orig_len-1)+1) * (orig_len-1)\n",
    "\n",
    "            if new_idx >= orig_len:\n",
    "                new_idx = new_idx - int(new_idx / (orig_len-1)) * (orig_len-1)\n",
    "\n",
    "\n",
    "        if (orig_len-new_idx+1) >= len(df):        \n",
    "            temp_df = pd.concat([temp_df,df[df['idx']!=idx]]).reset_index(drop=True)\n",
    "\n",
    "        df = temp_df.copy()\n",
    "\n",
    "        assert new_idx > 0 and (orig_len-new_idx) < len(df)\n",
    "\n",
    "        line = pd.DataFrame({'num':num, 'idx':idx}, index=[new_idx])\n",
    "\n",
    "        df = pd.concat([df[:new_idx],line, df[new_idx:]]).reset_index(drop=True)\n",
    "        df = df.iloc[:orig_len]\n",
    "        assert len(df)==orig_len\n",
    "\n",
    "        a = df['idx'].unique()\n",
    "        a.sort()\n",
    "        assert (a==np.arange(orig_len)[:len(a)]).all(), \"MESSED UP\"\n",
    "\n",
    "ans = 0\n",
    "for i in [1000,2000,3000]:\n",
    "    ans += df.iloc[(df[df['num']==0].index[0]+i)%len(sequence)]['num']\n",
    "ans"
   ]
  },
  {
   "cell_type": "code",
   "execution_count": null,
   "id": "ab0cc8e9-4f78-4920-bdbc-72f0218be9a7",
   "metadata": {},
   "outputs": [],
   "source": []
  }
 ],
 "metadata": {
  "kernelspec": {
   "display_name": "Python 3 (ipykernel)",
   "language": "python",
   "name": "python3"
  },
  "language_info": {
   "codemirror_mode": {
    "name": "ipython",
    "version": 3
   },
   "file_extension": ".py",
   "mimetype": "text/x-python",
   "name": "python",
   "nbconvert_exporter": "python",
   "pygments_lexer": "ipython3",
   "version": "3.9.13"
  }
 },
 "nbformat": 4,
 "nbformat_minor": 5
}
