{
 "cells": [
  {
   "cell_type": "code",
   "execution_count": 15,
   "id": "27ba8826-a8c0-4f1e-92ae-c013e61228bb",
   "metadata": {},
   "outputs": [],
   "source": [
    "import pandas as pd\n",
    "import numpy as np"
   ]
  },
  {
   "cell_type": "code",
   "execution_count": 471,
   "id": "906c36b9-1a17-4ad6-82cf-a10b0ab28f5c",
   "metadata": {},
   "outputs": [
    {
     "data": {
      "text/plain": [
       "['Sensor at x=3772068, y=2853720: closest beacon is at x=4068389, y=2345925',\n",
       " 'Sensor at x=78607, y=2544104: closest beacon is at x=-152196, y=4183739',\n",
       " 'Sensor at x=3239531, y=3939220: closest beacon is at x=3568548, y=4206192',\n",
       " 'Sensor at x=339124, y=989831: closest beacon is at x=570292, y=1048239',\n",
       " 'Sensor at x=3957534, y=2132743: closest beacon is at x=3897332, y=2000000']"
      ]
     },
     "execution_count": 471,
     "metadata": {},
     "output_type": "execute_result"
    }
   ],
   "source": [
    "vals = []\n",
    "with open('./input.txt', 'r') as file:\n",
    "    for line in file:\n",
    "        vals.append(line.strip())\n",
    "        \n",
    "vals[:5]"
   ]
  },
  {
   "cell_type": "code",
   "execution_count": 436,
   "id": "70d33b0b-a5ed-46d7-bd64-6f337e943ed8",
   "metadata": {},
   "outputs": [
    {
     "data": {
      "text/plain": [
       "['Sensor at x=2, y=18: closest beacon is at x=-2, y=15',\n",
       " 'Sensor at x=9, y=16: closest beacon is at x=10, y=16',\n",
       " 'Sensor at x=13, y=2: closest beacon is at x=15, y=3',\n",
       " 'Sensor at x=12, y=14: closest beacon is at x=10, y=16',\n",
       " 'Sensor at x=10, y=20: closest beacon is at x=10, y=16']"
      ]
     },
     "execution_count": 436,
     "metadata": {},
     "output_type": "execute_result"
    }
   ],
   "source": [
    "test ='''Sensor at x=2, y=18: closest beacon is at x=-2, y=15\n",
    "Sensor at x=9, y=16: closest beacon is at x=10, y=16\n",
    "Sensor at x=13, y=2: closest beacon is at x=15, y=3\n",
    "Sensor at x=12, y=14: closest beacon is at x=10, y=16\n",
    "Sensor at x=10, y=20: closest beacon is at x=10, y=16\n",
    "Sensor at x=14, y=17: closest beacon is at x=10, y=16\n",
    "Sensor at x=8, y=7: closest beacon is at x=2, y=10\n",
    "Sensor at x=2, y=0: closest beacon is at x=2, y=10\n",
    "Sensor at x=0, y=11: closest beacon is at x=2, y=10\n",
    "Sensor at x=20, y=14: closest beacon is at x=25, y=17\n",
    "Sensor at x=17, y=20: closest beacon is at x=21, y=22\n",
    "Sensor at x=16, y=7: closest beacon is at x=15, y=3\n",
    "Sensor at x=14, y=3: closest beacon is at x=15, y=3\n",
    "Sensor at x=20, y=1: closest beacon is at x=15, y=3'''\n",
    "\n",
    "vals = []\n",
    "for line in test.split('\\n'):\n",
    "    vals.append(line.strip())\n",
    "\n",
    "vals[:5]\n",
    "\n"
   ]
  },
  {
   "cell_type": "code",
   "execution_count": 472,
   "id": "a8bd915d-ad1d-408c-a4f1-a8630b754288",
   "metadata": {},
   "outputs": [],
   "source": [
    "sensors = []\n",
    "beacons = []\n",
    "distances = []\n",
    "for v in vals:\n",
    "\n",
    "    split = v.split(' ')\n",
    "    sensor_x = int(split[2].split('=')[-1][:-1])\n",
    "    sensor_y = int(split[3].split('=')[-1][:-1])\n",
    "    beacon_x = int(split[-2].split('=')[-1][:-1])\n",
    "    beacon_y = int(split[-1].split('=')[-1])\n",
    "    sensors.append([sensor_y, sensor_x])\n",
    "    beacons.append([beacon_y, beacon_x])  \n",
    "    \n",
    "    distance = np.abs(beacon_x-sensor_x)+np.abs(beacon_y-sensor_y)\n",
    "    assert int(distance)==distance\n",
    "    distance = int(distance)  \n",
    "    distances.append(distance)\n",
    "    \n",
    "beacons = np.array(beacons, dtype=int)\n",
    "sensors = np.array(sensors, dtype=int)\n",
    "distances = np.array(distances, dtype=int)\n",
    "\n",
    "row10 = []"
   ]
  },
  {
   "cell_type": "code",
   "execution_count": 215,
   "id": "93fbf176-0a1c-433c-bce5-779ee2dee6f4",
   "metadata": {},
   "outputs": [
    {
     "name": "stdout",
     "output_type": "stream",
     "text": [
      "0\n",
      "1\n",
      "2\n",
      "3\n",
      "4\n",
      "5\n",
      "6\n",
      "7\n",
      "8\n",
      "9\n",
      "10\n",
      "11\n",
      "12\n",
      "13\n"
     ]
    },
    {
     "data": {
      "text/plain": [
       "26"
      ]
     },
     "execution_count": 215,
     "metadata": {},
     "output_type": "execute_result"
    }
   ],
   "source": [
    "\n",
    "\n",
    "\n",
    "target = 10# 2000000 #10#\n",
    "row10=[]\n",
    "for idx, (b,s,distance) in enumerate(zip(beacons, sensors, distances)):\n",
    "    print(idx)\n",
    "    \n",
    "    \n",
    "    if s[0]+distance < target or s[0]-distance > target:\n",
    "        continue\n",
    "        \n",
    "    \n",
    "    for i in range(-distance, distance+1):\n",
    "        if i+s[0]==target:\n",
    "            for j in range(-distance, distance+1):\n",
    "            \n",
    "                if np.abs(i)+np.abs(j)<=distance:\n",
    "                    if not ((sensors==[i+s[0], j+s[1]]).all(1)).any() and not ((beacons==[i+s[0], j+s[1]]).all(1)).any():\n",
    "\n",
    "                        row10.append((i+s[0], j+s[1]))\n",
    "#    if idx==3:\n",
    "#        assert 3==2\n",
    "#            break\n",
    "\n",
    "len(set(row10))"
   ]
  },
  {
   "cell_type": "code",
   "execution_count": 267,
   "id": "13afc67e-5c1d-45b5-9606-9e07b574d5d5",
   "metadata": {},
   "outputs": [
    {
     "name": "stdout",
     "output_type": "stream",
     "text": [
      "x=[[     27]\n",
      " [     28]\n",
      " [     29]\n",
      " ...\n",
      " [3999998]\n",
      " [3999999]\n",
      " [4000000]],y=0\n"
     ]
    }
   ],
   "source": [
    "min_x = 0\n",
    "max_x = 4_000_000\n",
    "\n",
    "for target in range(max_x+1):\n",
    "    row10=np.zeros(max_x+1)\n",
    "    for idx, (b,s,d) in enumerate(zip(beacons, sensors, distances)):\n",
    "        if target+d-s[0] > 0: \n",
    "            i = np.abs(target-s[0])\n",
    "            row10[np.arange(np.max([min_x, s[1]-d+i]),np.min([max_x, d+s[1]-i])+1)]=1\n",
    "            \n",
    "    if len(np.argwhere(row10==0))>0:\n",
    "        print(f\"x={np.argwhere(row10==0)},y={target}\")\n",
    "        break"
   ]
  },
  {
   "cell_type": "code",
   "execution_count": 97,
   "id": "79d55957-ba26-48c2-85c8-0c487a75c40c",
   "metadata": {},
   "outputs": [],
   "source": [
    "x = np.arange(np.max([min_x, s[1]-d+i]),np.min([max_x, d+s[1]-i])+1)\n",
    "y = target\n",
    "np.abs(y-s[0])"
   ]
  },
  {
   "cell_type": "code",
   "execution_count": 196,
   "id": "e3d6cccd-d025-4bce-90fc-e25ab4cfeeac",
   "metadata": {},
   "outputs": [
    {
     "data": {
      "text/plain": [
       "(5, 0)"
      ]
     },
     "execution_count": 196,
     "metadata": {},
     "output_type": "execute_result"
    }
   ],
   "source": [
    "s[0]+d, target"
   ]
  },
  {
   "cell_type": "code",
   "execution_count": 273,
   "id": "ab453b92-b998-405d-9b81-d7bb6bfc4c55",
   "metadata": {},
   "outputs": [
    {
     "data": {
      "text/plain": [
       "array([False, False, False, False, False, False, False,  True, False,\n",
       "        True, False, False,  True, False, False, False, False, False,\n",
       "       False,  True,  True, False, False, False, False, False])"
      ]
     },
     "execution_count": 273,
     "metadata": {},
     "output_type": "execute_result"
    }
   ],
   "source": [
    "target+distances-sensors[:,0]>0"
   ]
  },
  {
   "cell_type": "code",
   "execution_count": 484,
   "id": "29ff42d1-5f06-46a0-8b0f-7ff1cfe2b37b",
   "metadata": {},
   "outputs": [
    {
     "name": "stdout",
     "output_type": "stream",
     "text": [
      "0\n",
      "1000000\n",
      "2000000\n",
      "3000000\n"
     ]
    },
    {
     "ename": "AssertionError",
     "evalue": "(3403960, 3289729) which is 13615843289729",
     "output_type": "error",
     "traceback": [
      "\u001b[0;31m---------------------------------------------------------------------------\u001b[0m",
      "\u001b[0;31mAssertionError\u001b[0m                            Traceback (most recent call last)",
      "Input \u001b[0;32mIn [484]\u001b[0m, in \u001b[0;36m<cell line: 4>\u001b[0;34m()\u001b[0m\n\u001b[1;32m     37\u001b[0m     \u001b[38;5;28;01mcontinue\u001b[39;00m\n\u001b[1;32m     38\u001b[0m \u001b[38;5;66;03m# x-----y\u001b[39;00m\n\u001b[1;32m     39\u001b[0m \u001b[38;5;66;03m#         x----y\u001b[39;00m\n\u001b[1;32m     40\u001b[0m \u001b[38;5;28;01melse\u001b[39;00m:\n\u001b[0;32m---> 42\u001b[0m     \u001b[38;5;28;01massert\u001b[39;00m \u001b[38;5;241m3\u001b[39m\u001b[38;5;241m==\u001b[39m\u001b[38;5;241m2\u001b[39m, \u001b[38;5;124mf\u001b[39m\u001b[38;5;124m\"\u001b[39m\u001b[38;5;124m(\u001b[39m\u001b[38;5;132;01m{\u001b[39;00mans[\u001b[38;5;241m1\u001b[39m]\u001b[38;5;241m+\u001b[39m\u001b[38;5;241m1\u001b[39m\u001b[38;5;132;01m}\u001b[39;00m\u001b[38;5;124m, \u001b[39m\u001b[38;5;132;01m{\u001b[39;00mtarget\u001b[38;5;132;01m}\u001b[39;00m\u001b[38;5;124m) which is \u001b[39m\u001b[38;5;132;01m{\u001b[39;00m(ans[\u001b[38;5;241m1\u001b[39m]\u001b[38;5;241m+\u001b[39m\u001b[38;5;241m1\u001b[39m)\u001b[38;5;241m*\u001b[39m\u001b[38;5;241m4000000\u001b[39m\u001b[38;5;241m+\u001b[39mtarget\u001b[38;5;132;01m}\u001b[39;00m\u001b[38;5;124m\"\u001b[39m\n",
      "\u001b[0;31mAssertionError\u001b[0m: (3403960, 3289729) which is 13615843289729"
     ]
    }
   ],
   "source": [
    "min_x = 0\n",
    "max_x = 4_000_000\n",
    "big = set(np.arange(max_x+1))\n",
    "for target in big:\n",
    "    if target%1_000_000==0:\n",
    "        print(target)\n",
    "\n",
    "\n",
    "    idx = target+distances-sensors[:,0]>0      # Is the current y location reachable?\n",
    "    lower = sensors[idx][:,1]-distances[idx]+np.abs(target-sensors[idx][:,0]) #lower\n",
    "    upper = sensors[idx][:,1]+distances[idx]-np.abs(target-sensors[idx][:,0]) #upper\n",
    "\n",
    "    idx = lower<=upper  \n",
    "    bounds = np.stack([lower[idx], upper[idx]])\n",
    "    bounds = np.where(bounds<min_x,min_x,bounds)  \n",
    "    bounds = np.where(bounds>max_x,max_x,bounds)\n",
    "    \n",
    "    \n",
    "    bounds.sort()\n",
    "    ans = bounds.T[0]\n",
    "    for b in bounds.T[1:]:\n",
    "        #     x----y\n",
    "        #   x---------y\n",
    "        if b[0]<=ans[0] and b[1]>=ans[1]:\n",
    "            ans=b\n",
    "        #     x----y\n",
    "        #       x------y\n",
    "        elif b[1]>=ans[1] and b[0]<=ans[1]:\n",
    "            ans[1]=b[1]\n",
    "        #     x----y\n",
    "        #  x----y            \n",
    "        elif b[0]<=ans[0] and b[1]<=ans[1]:\n",
    "            ans[0]=b[0]\n",
    "\n",
    "        #   x----------y\n",
    "        #      x--y\n",
    "        elif b[0]>=ans[0] and b[1]<=ans[1]:\n",
    "            continue\n",
    "        # x-----y\n",
    "        #         x----y\n",
    "        # WINNING\n",
    "        else:\n",
    "            \n",
    "            assert 3==2, f\"({ans[1]+1}, {target}) which is {(ans[1]+1)*4000000+target}\"\n",
    "\n",
    "     \n",
    "            "
   ]
  },
  {
   "cell_type": "code",
   "execution_count": 482,
   "id": "9a05e56e-3b5d-4d76-a4c8-d6e73af70544",
   "metadata": {},
   "outputs": [
    {
     "data": {
      "text/plain": [
       "13615843289729"
      ]
     },
     "execution_count": 482,
     "metadata": {},
     "output_type": "execute_result"
    }
   ],
   "source": [
    "(3403959+1)*4000000+target"
   ]
  }
 ],
 "metadata": {
  "kernelspec": {
   "display_name": "Python 3 (ipykernel)",
   "language": "python",
   "name": "python3"
  },
  "language_info": {
   "codemirror_mode": {
    "name": "ipython",
    "version": 3
   },
   "file_extension": ".py",
   "mimetype": "text/x-python",
   "name": "python",
   "nbconvert_exporter": "python",
   "pygments_lexer": "ipython3",
   "version": "3.9.13"
  }
 },
 "nbformat": 4,
 "nbformat_minor": 5
}
